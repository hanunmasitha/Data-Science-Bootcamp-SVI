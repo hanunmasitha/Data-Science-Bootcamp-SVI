{
 "cells": [
  {
   "cell_type": "markdown",
   "id": "2c1903e5-54c8-40fc-aebf-0264a09bf0fa",
   "metadata": {},
   "source": [
    "Nama:"
   ]
  },
  {
   "cell_type": "code",
   "execution_count": 1,
   "id": "ec42e2ec-c576-409d-b927-3d3c3e90934e",
   "metadata": {},
   "outputs": [
    {
     "name": "stdout",
     "output_type": "stream",
     "text": [
      "Hanun Masitha Ramadhani\n"
     ]
    }
   ],
   "source": [
    "print(\"Hanun Masitha Ramadhani\")"
   ]
  },
  {
   "cell_type": "code",
   "execution_count": 2,
   "id": "eligible-activation",
   "metadata": {},
   "outputs": [
    {
     "ename": "ModuleNotFoundError",
     "evalue": "No module named 'fbprophet'",
     "output_type": "error",
     "traceback": [
      "\u001b[1;31m---------------------------------------------------------------------------\u001b[0m",
      "\u001b[1;31mModuleNotFoundError\u001b[0m                       Traceback (most recent call last)",
      "\u001b[1;32m<ipython-input-2-e7020c989db4>\u001b[0m in \u001b[0;36m<module>\u001b[1;34m\u001b[0m\n\u001b[1;32m----> 1\u001b[1;33m \u001b[1;32mimport\u001b[0m \u001b[0mfbprophet\u001b[0m\u001b[1;33m\u001b[0m\u001b[1;33m\u001b[0m\u001b[0m\n\u001b[0m\u001b[0;32m      2\u001b[0m \u001b[1;32mimport\u001b[0m \u001b[0mpandas\u001b[0m \u001b[1;32mas\u001b[0m \u001b[0mpd\u001b[0m\u001b[1;33m\u001b[0m\u001b[1;33m\u001b[0m\u001b[0m\n\u001b[0;32m      3\u001b[0m \u001b[1;32mimport\u001b[0m \u001b[0mmatplotlib\u001b[0m\u001b[1;33m.\u001b[0m\u001b[0mpyplot\u001b[0m \u001b[1;32mas\u001b[0m \u001b[0mplt\u001b[0m\u001b[1;33m\u001b[0m\u001b[1;33m\u001b[0m\u001b[0m\n",
      "\u001b[1;31mModuleNotFoundError\u001b[0m: No module named 'fbprophet'"
     ]
    }
   ],
   "source": [
    "import fbprophet\n",
    "import pandas as pd\n",
    "import matplotlib.pyplot as plt"
   ]
  },
  {
   "cell_type": "markdown",
   "id": "b6d0c960-0550-4c90-90b7-1c48c862acf4",
   "metadata": {},
   "source": [
    "(1) Split dataset menjadi trainset (data sampai sebelum tahun 1989), validset (data tahun 1989), dan testset (data tahun 1990)"
   ]
  },
  {
   "cell_type": "code",
   "execution_count": null,
   "id": "7c3364c2-3461-464b-8c2f-e549840d5967",
   "metadata": {},
   "outputs": [],
   "source": []
  },
  {
   "cell_type": "markdown",
   "id": "c78bcefd-9376-487b-9143-e5f01679fab9",
   "metadata": {},
   "source": [
    "(2) Dengan menggunakan trainset dan validset tentukan nilai yearly_seasonality, monthly_seasonality, weekly_seasonality, dan changepoint_prior_scale yang optimal."
   ]
  },
  {
   "cell_type": "code",
   "execution_count": null,
   "id": "35f07b5b-6316-4233-8e83-b329bd3e0051",
   "metadata": {},
   "outputs": [],
   "source": []
  },
  {
   "cell_type": "markdown",
   "id": "cb4ef694-737f-48de-849c-ed866e5b0dc9",
   "metadata": {},
   "source": [
    "(3) Hitung RMSE hasil prediksi testset menggunakan optimized vs unoptimized model"
   ]
  },
  {
   "cell_type": "code",
   "execution_count": null,
   "id": "16599f8f-4e4f-4e66-9e7b-ffc191a23705",
   "metadata": {},
   "outputs": [],
   "source": []
  },
  {
   "cell_type": "markdown",
   "id": "713044fd-eadc-401d-8071-07b834041570",
   "metadata": {},
   "source": [
    "(4) Tampilkan plot (+scatter plot validset dan testset) dan plot_components dari model"
   ]
  },
  {
   "cell_type": "code",
   "execution_count": null,
   "id": "e4e74136-7af9-46de-849f-ddb605900bde",
   "metadata": {},
   "outputs": [],
   "source": []
  },
  {
   "cell_type": "markdown",
   "id": "adacdab6-5c26-4ac6-93c8-bcbe23eb6a0a",
   "metadata": {},
   "source": [
    "(5) Buat prediksi min_temperature harian tahun 1991 dan 1992. Tampilkan plotnya."
   ]
  },
  {
   "cell_type": "code",
   "execution_count": null,
   "id": "5a6ff74f-1aa5-462f-923d-c346e3e6994f",
   "metadata": {},
   "outputs": [],
   "source": []
  }
 ],
 "metadata": {
  "kernelspec": {
   "display_name": "Python 3",
   "language": "python",
   "name": "python3"
  },
  "language_info": {
   "codemirror_mode": {
    "name": "ipython",
    "version": 3
   },
   "file_extension": ".py",
   "mimetype": "text/x-python",
   "name": "python",
   "nbconvert_exporter": "python",
   "pygments_lexer": "ipython3",
   "version": "3.8.7"
  }
 },
 "nbformat": 4,
 "nbformat_minor": 5
}
