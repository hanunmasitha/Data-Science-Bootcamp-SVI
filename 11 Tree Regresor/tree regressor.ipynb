{
 "cells": [
  {
   "cell_type": "markdown",
   "id": "e8cab86e-748f-4524-9842-77e3cd523190",
   "metadata": {},
   "source": [
    "Nama:"
   ]
  },
  {
   "cell_type": "code",
   "execution_count": null,
   "id": "5fdd3ee4-0c43-48bc-8b9b-80377e3f6cfb",
   "metadata": {},
   "outputs": [],
   "source": []
  },
  {
   "cell_type": "markdown",
   "id": "ccb9c141-d5cc-426e-aca9-ec28016944ab",
   "metadata": {},
   "source": [
    "(1) Split X, y dari dataset churn. y = average utilization ratio"
   ]
  },
  {
   "cell_type": "code",
   "execution_count": null,
   "id": "54060982-1940-4792-ad0a-a29d7322fad2",
   "metadata": {},
   "outputs": [],
   "source": []
  },
  {
   "cell_type": "markdown",
   "id": "09b6b309-169e-442b-8ff4-5fdd28c76970",
   "metadata": {},
   "source": [
    "(2) Split trainset dan testset. test size = 0.2."
   ]
  },
  {
   "cell_type": "code",
   "execution_count": null,
   "id": "e96bfc20-fe43-453d-bd6c-cea35c8d5327",
   "metadata": {},
   "outputs": [],
   "source": []
  },
  {
   "cell_type": "markdown",
   "id": "6e170a50-07da-4f33-9e80-88509804c46a",
   "metadata": {},
   "source": [
    "(3) Lakukan transformasi yang diperlukan pada trainset."
   ]
  },
  {
   "cell_type": "code",
   "execution_count": null,
   "id": "337b6a1d-e74d-4d34-a16b-520e8383b001",
   "metadata": {},
   "outputs": [],
   "source": []
  },
  {
   "cell_type": "markdown",
   "id": "2c816bc0-9032-4b8b-a745-a895d9990fe7",
   "metadata": {},
   "source": [
    "(4) Siapkan 3 regressor learning alg.: decision tree regressor, random forest regressor, dan xgboost regressor. Dengan menggunakan cross validation tentukan berbagai hyperparameter yang optimal."
   ]
  },
  {
   "cell_type": "code",
   "execution_count": null,
   "id": "f96eb26a-cd20-416e-9a81-3d1ccbd0d46e",
   "metadata": {},
   "outputs": [],
   "source": []
  },
  {
   "cell_type": "markdown",
   "id": "05b936b1-9a6b-409f-bd2f-293eb2d33422",
   "metadata": {},
   "source": [
    "(5) Print metrics r2, mse, rmse, mae, dan mape trainset vs testset (dt vs rf vs xgb) dalam bentuk dataframe"
   ]
  },
  {
   "cell_type": "code",
   "execution_count": null,
   "id": "1161e1f9-63fd-47a6-be3e-e904dd12baac",
   "metadata": {},
   "outputs": [],
   "source": []
  }
 ],
 "metadata": {
  "kernelspec": {
   "display_name": "Python 3",
   "language": "python",
   "name": "python3"
  },
  "language_info": {
   "codemirror_mode": {
    "name": "ipython",
    "version": 3
   },
   "file_extension": ".py",
   "mimetype": "text/x-python",
   "name": "python",
   "nbconvert_exporter": "python",
   "pygments_lexer": "ipython3",
   "version": "3.8.7"
  }
 },
 "nbformat": 4,
 "nbformat_minor": 5
}
