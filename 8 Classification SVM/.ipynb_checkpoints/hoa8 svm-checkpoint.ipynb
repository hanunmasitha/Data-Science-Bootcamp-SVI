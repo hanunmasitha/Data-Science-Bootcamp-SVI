{
 "cells": [
  {
   "cell_type": "markdown",
   "id": "3802c662-f374-439c-b921-c22b1efb7842",
   "metadata": {},
   "source": [
    "Nama:"
   ]
  },
  {
   "cell_type": "code",
   "execution_count": 2,
   "id": "7ec09fbd-ab47-4655-917f-26edd95847ca",
   "metadata": {},
   "outputs": [
    {
     "name": "stdout",
     "output_type": "stream",
     "text": [
      "Nama : Hanun Masitha Ramadhani\n"
     ]
    }
   ],
   "source": [
    "print(\"Nama : Hanun Masitha Ramadhani\")"
   ]
  },
  {
   "cell_type": "markdown",
   "id": "a2cc4bc0-a6a7-451e-82d5-c1917c64ca3e",
   "metadata": {},
   "source": [
    "(1) Import dataset water potability. Jadikan kolom 'potability' menjadi kolom target."
   ]
  },
  {
   "cell_type": "code",
   "execution_count": 3,
   "id": "cc9a2016-618b-466b-862a-b656e661cd3d",
   "metadata": {},
   "outputs": [
    {
     "data": {
      "text/html": [
       "<div>\n",
       "<style scoped>\n",
       "    .dataframe tbody tr th:only-of-type {\n",
       "        vertical-align: middle;\n",
       "    }\n",
       "\n",
       "    .dataframe tbody tr th {\n",
       "        vertical-align: top;\n",
       "    }\n",
       "\n",
       "    .dataframe thead th {\n",
       "        text-align: right;\n",
       "    }\n",
       "</style>\n",
       "<table border=\"1\" class=\"dataframe\">\n",
       "  <thead>\n",
       "    <tr style=\"text-align: right;\">\n",
       "      <th></th>\n",
       "      <th>ph</th>\n",
       "      <th>Hardness</th>\n",
       "      <th>Solids</th>\n",
       "      <th>Chloramines</th>\n",
       "      <th>Sulfate</th>\n",
       "      <th>Conductivity</th>\n",
       "      <th>Organic_carbon</th>\n",
       "      <th>Trihalomethanes</th>\n",
       "      <th>Turbidity</th>\n",
       "      <th>Potability</th>\n",
       "    </tr>\n",
       "  </thead>\n",
       "  <tbody>\n",
       "    <tr>\n",
       "      <th>0</th>\n",
       "      <td>NaN</td>\n",
       "      <td>204.890455</td>\n",
       "      <td>20791.318981</td>\n",
       "      <td>7.300212</td>\n",
       "      <td>368.516441</td>\n",
       "      <td>564.308654</td>\n",
       "      <td>10.379783</td>\n",
       "      <td>86.990970</td>\n",
       "      <td>2.963135</td>\n",
       "      <td>0</td>\n",
       "    </tr>\n",
       "    <tr>\n",
       "      <th>1</th>\n",
       "      <td>3.716080</td>\n",
       "      <td>129.422921</td>\n",
       "      <td>18630.057858</td>\n",
       "      <td>6.635246</td>\n",
       "      <td>NaN</td>\n",
       "      <td>592.885359</td>\n",
       "      <td>15.180013</td>\n",
       "      <td>56.329076</td>\n",
       "      <td>4.500656</td>\n",
       "      <td>0</td>\n",
       "    </tr>\n",
       "    <tr>\n",
       "      <th>2</th>\n",
       "      <td>8.099124</td>\n",
       "      <td>224.236259</td>\n",
       "      <td>19909.541732</td>\n",
       "      <td>9.275884</td>\n",
       "      <td>NaN</td>\n",
       "      <td>418.606213</td>\n",
       "      <td>16.868637</td>\n",
       "      <td>66.420093</td>\n",
       "      <td>3.055934</td>\n",
       "      <td>0</td>\n",
       "    </tr>\n",
       "    <tr>\n",
       "      <th>3</th>\n",
       "      <td>8.316766</td>\n",
       "      <td>214.373394</td>\n",
       "      <td>22018.417441</td>\n",
       "      <td>8.059332</td>\n",
       "      <td>356.886136</td>\n",
       "      <td>363.266516</td>\n",
       "      <td>18.436524</td>\n",
       "      <td>100.341674</td>\n",
       "      <td>4.628771</td>\n",
       "      <td>0</td>\n",
       "    </tr>\n",
       "    <tr>\n",
       "      <th>4</th>\n",
       "      <td>9.092223</td>\n",
       "      <td>181.101509</td>\n",
       "      <td>17978.986339</td>\n",
       "      <td>6.546600</td>\n",
       "      <td>310.135738</td>\n",
       "      <td>398.410813</td>\n",
       "      <td>11.558279</td>\n",
       "      <td>31.997993</td>\n",
       "      <td>4.075075</td>\n",
       "      <td>0</td>\n",
       "    </tr>\n",
       "    <tr>\n",
       "      <th>...</th>\n",
       "      <td>...</td>\n",
       "      <td>...</td>\n",
       "      <td>...</td>\n",
       "      <td>...</td>\n",
       "      <td>...</td>\n",
       "      <td>...</td>\n",
       "      <td>...</td>\n",
       "      <td>...</td>\n",
       "      <td>...</td>\n",
       "      <td>...</td>\n",
       "    </tr>\n",
       "    <tr>\n",
       "      <th>3271</th>\n",
       "      <td>4.668102</td>\n",
       "      <td>193.681735</td>\n",
       "      <td>47580.991603</td>\n",
       "      <td>7.166639</td>\n",
       "      <td>359.948574</td>\n",
       "      <td>526.424171</td>\n",
       "      <td>13.894419</td>\n",
       "      <td>66.687695</td>\n",
       "      <td>4.435821</td>\n",
       "      <td>1</td>\n",
       "    </tr>\n",
       "    <tr>\n",
       "      <th>3272</th>\n",
       "      <td>7.808856</td>\n",
       "      <td>193.553212</td>\n",
       "      <td>17329.802160</td>\n",
       "      <td>8.061362</td>\n",
       "      <td>NaN</td>\n",
       "      <td>392.449580</td>\n",
       "      <td>19.903225</td>\n",
       "      <td>NaN</td>\n",
       "      <td>2.798243</td>\n",
       "      <td>1</td>\n",
       "    </tr>\n",
       "    <tr>\n",
       "      <th>3273</th>\n",
       "      <td>9.419510</td>\n",
       "      <td>175.762646</td>\n",
       "      <td>33155.578218</td>\n",
       "      <td>7.350233</td>\n",
       "      <td>NaN</td>\n",
       "      <td>432.044783</td>\n",
       "      <td>11.039070</td>\n",
       "      <td>69.845400</td>\n",
       "      <td>3.298875</td>\n",
       "      <td>1</td>\n",
       "    </tr>\n",
       "    <tr>\n",
       "      <th>3274</th>\n",
       "      <td>5.126763</td>\n",
       "      <td>230.603758</td>\n",
       "      <td>11983.869376</td>\n",
       "      <td>6.303357</td>\n",
       "      <td>NaN</td>\n",
       "      <td>402.883113</td>\n",
       "      <td>11.168946</td>\n",
       "      <td>77.488213</td>\n",
       "      <td>4.708658</td>\n",
       "      <td>1</td>\n",
       "    </tr>\n",
       "    <tr>\n",
       "      <th>3275</th>\n",
       "      <td>7.874671</td>\n",
       "      <td>195.102299</td>\n",
       "      <td>17404.177061</td>\n",
       "      <td>7.509306</td>\n",
       "      <td>NaN</td>\n",
       "      <td>327.459760</td>\n",
       "      <td>16.140368</td>\n",
       "      <td>78.698446</td>\n",
       "      <td>2.309149</td>\n",
       "      <td>1</td>\n",
       "    </tr>\n",
       "  </tbody>\n",
       "</table>\n",
       "<p>3276 rows × 10 columns</p>\n",
       "</div>"
      ],
      "text/plain": [
       "            ph    Hardness        Solids  Chloramines     Sulfate  \\\n",
       "0          NaN  204.890455  20791.318981     7.300212  368.516441   \n",
       "1     3.716080  129.422921  18630.057858     6.635246         NaN   \n",
       "2     8.099124  224.236259  19909.541732     9.275884         NaN   \n",
       "3     8.316766  214.373394  22018.417441     8.059332  356.886136   \n",
       "4     9.092223  181.101509  17978.986339     6.546600  310.135738   \n",
       "...        ...         ...           ...          ...         ...   \n",
       "3271  4.668102  193.681735  47580.991603     7.166639  359.948574   \n",
       "3272  7.808856  193.553212  17329.802160     8.061362         NaN   \n",
       "3273  9.419510  175.762646  33155.578218     7.350233         NaN   \n",
       "3274  5.126763  230.603758  11983.869376     6.303357         NaN   \n",
       "3275  7.874671  195.102299  17404.177061     7.509306         NaN   \n",
       "\n",
       "      Conductivity  Organic_carbon  Trihalomethanes  Turbidity  Potability  \n",
       "0       564.308654       10.379783        86.990970   2.963135           0  \n",
       "1       592.885359       15.180013        56.329076   4.500656           0  \n",
       "2       418.606213       16.868637        66.420093   3.055934           0  \n",
       "3       363.266516       18.436524       100.341674   4.628771           0  \n",
       "4       398.410813       11.558279        31.997993   4.075075           0  \n",
       "...            ...             ...              ...        ...         ...  \n",
       "3271    526.424171       13.894419        66.687695   4.435821           1  \n",
       "3272    392.449580       19.903225              NaN   2.798243           1  \n",
       "3273    432.044783       11.039070        69.845400   3.298875           1  \n",
       "3274    402.883113       11.168946        77.488213   4.708658           1  \n",
       "3275    327.459760       16.140368        78.698446   2.309149           1  \n",
       "\n",
       "[3276 rows x 10 columns]"
      ]
     },
     "execution_count": 3,
     "metadata": {},
     "output_type": "execute_result"
    }
   ],
   "source": [
    "import pandas as pd\n",
    "df_water = pd.read_csv('water_potability.csv')\n",
    "df_water"
   ]
  },
  {
   "cell_type": "markdown",
   "id": "52a527be-b7c6-4bb2-b6e8-b47af93a0931",
   "metadata": {},
   "source": [
    "(2) Periksa adanya missing value pada dataset, dan lakukan dropna apabila sedikit jumlahnya."
   ]
  },
  {
   "cell_type": "code",
   "execution_count": 4,
   "id": "8279592e-3027-4925-b0eb-637efc543d49",
   "metadata": {},
   "outputs": [
    {
     "data": {
      "text/html": [
       "<div>\n",
       "<style scoped>\n",
       "    .dataframe tbody tr th:only-of-type {\n",
       "        vertical-align: middle;\n",
       "    }\n",
       "\n",
       "    .dataframe tbody tr th {\n",
       "        vertical-align: top;\n",
       "    }\n",
       "\n",
       "    .dataframe thead th {\n",
       "        text-align: right;\n",
       "    }\n",
       "</style>\n",
       "<table border=\"1\" class=\"dataframe\">\n",
       "  <thead>\n",
       "    <tr style=\"text-align: right;\">\n",
       "      <th></th>\n",
       "      <th>kolom</th>\n",
       "      <th>missing</th>\n",
       "      <th>persen_missing</th>\n",
       "    </tr>\n",
       "  </thead>\n",
       "  <tbody>\n",
       "    <tr>\n",
       "      <th>0</th>\n",
       "      <td>ph</td>\n",
       "      <td>491</td>\n",
       "      <td>14.987790</td>\n",
       "    </tr>\n",
       "    <tr>\n",
       "      <th>1</th>\n",
       "      <td>Hardness</td>\n",
       "      <td>0</td>\n",
       "      <td>0.000000</td>\n",
       "    </tr>\n",
       "    <tr>\n",
       "      <th>2</th>\n",
       "      <td>Solids</td>\n",
       "      <td>0</td>\n",
       "      <td>0.000000</td>\n",
       "    </tr>\n",
       "    <tr>\n",
       "      <th>3</th>\n",
       "      <td>Chloramines</td>\n",
       "      <td>0</td>\n",
       "      <td>0.000000</td>\n",
       "    </tr>\n",
       "    <tr>\n",
       "      <th>4</th>\n",
       "      <td>Sulfate</td>\n",
       "      <td>781</td>\n",
       "      <td>23.840049</td>\n",
       "    </tr>\n",
       "    <tr>\n",
       "      <th>5</th>\n",
       "      <td>Conductivity</td>\n",
       "      <td>0</td>\n",
       "      <td>0.000000</td>\n",
       "    </tr>\n",
       "    <tr>\n",
       "      <th>6</th>\n",
       "      <td>Organic_carbon</td>\n",
       "      <td>0</td>\n",
       "      <td>0.000000</td>\n",
       "    </tr>\n",
       "    <tr>\n",
       "      <th>7</th>\n",
       "      <td>Trihalomethanes</td>\n",
       "      <td>162</td>\n",
       "      <td>4.945055</td>\n",
       "    </tr>\n",
       "    <tr>\n",
       "      <th>8</th>\n",
       "      <td>Turbidity</td>\n",
       "      <td>0</td>\n",
       "      <td>0.000000</td>\n",
       "    </tr>\n",
       "    <tr>\n",
       "      <th>9</th>\n",
       "      <td>Potability</td>\n",
       "      <td>0</td>\n",
       "      <td>0.000000</td>\n",
       "    </tr>\n",
       "  </tbody>\n",
       "</table>\n",
       "</div>"
      ],
      "text/plain": [
       "             kolom  missing  persen_missing\n",
       "0               ph      491       14.987790\n",
       "1         Hardness        0        0.000000\n",
       "2           Solids        0        0.000000\n",
       "3      Chloramines        0        0.000000\n",
       "4          Sulfate      781       23.840049\n",
       "5     Conductivity        0        0.000000\n",
       "6   Organic_carbon        0        0.000000\n",
       "7  Trihalomethanes      162        4.945055\n",
       "8        Turbidity        0        0.000000\n",
       "9       Potability        0        0.000000"
      ]
     },
     "execution_count": 4,
     "metadata": {},
     "output_type": "execute_result"
    }
   ],
   "source": [
    "missing = []\n",
    "persen = []\n",
    "\n",
    "for i in df_water.columns:\n",
    "    missing.append(df_water[i].isnull().sum())\n",
    "    persen.append(df_water[i].isnull().sum()/len(df_water[i])*100)\n",
    "\n",
    "proporsi_hilang = pd.DataFrame({\n",
    "        'kolom' : df_water.columns,\n",
    "        'missing' : missing,\n",
    "        'persen_missing' : persen\n",
    "})\n",
    "    \n",
    "proporsi_hilang"
   ]
  },
  {
   "cell_type": "code",
   "execution_count": 5,
   "id": "wrong-earthquake",
   "metadata": {},
   "outputs": [
    {
     "name": "stdout",
     "output_type": "stream",
     "text": [
      "imputation on PH\n"
     ]
    },
    {
     "data": {
      "image/png": "[encoded data removed]",
      "text/plain": [
       "<Figure size 432x288 with 1 Axes>"
      ]
     },
     "metadata": {
      "needs_background": "light"
     },
     "output_type": "display_data"
    },
    {
     "name": "stdout",
     "output_type": "stream",
     "text": [
      "pre: mean: 7.080794504276835, std: 1.5940332597032338\n",
      "post: mean: 7.078166598850777, std: 1.496999687091083\n",
      "imputation on Sulfate\n"
     ]
    },
    {
     "data": {
      "image/png": "[encoded data removed]",
      "text/plain": [
       "<Figure size 432x288 with 1 Axes>"
      ]
     },
     "metadata": {
      "needs_background": "light"
     },
     "output_type": "display_data"
    },
    {
     "name": "stdout",
     "output_type": "stream",
     "text": [
      "pre: mean: 333.7757766108135, std: 41.408539661817485\n",
      "post: mean: 333.6057666274236, std: 37.447338478064815\n"
     ]
    }
   ],
   "source": [
    "from sklearn.impute import KNNImputer\n",
    "import seaborn as sns\n",
    "import matplotlib.pyplot as plt\n",
    "import numpy as np\n",
    "from sklearn.preprocessing import StandardScaler\n",
    "\n",
    "imputer_knn = KNNImputer(n_neighbors=5)\n",
    "imputer_result = imputer_knn.fit_transform(df_water)\n",
    "\n",
    "imputer_result = pd.DataFrame(imputer_result)\n",
    "imputer_result.columns = df_water.columns\n",
    "\n",
    "print(\"imputation on PH\")\n",
    "\n",
    "sns.histplot(df_water['ph'], alpha=0.2, kde=True)\n",
    "sns.histplot(imputer_result['ph'], alpha=0.2, kde=True, color='red')\n",
    "plt.legend(['pre', 'post'])\n",
    "plt.show()\n",
    "print('pre: mean: {}, std: {}'.format(np.mean(df_water['ph']), \n",
    "                                      np.std(df_water['ph'])))\n",
    "print('post: mean: {}, std: {}'.format(np.mean(imputer_result['ph']), \n",
    "                                      np.std(imputer_result['ph'])))\n",
    "\n",
    "print(\"imputation on Sulfate\")\n",
    "\n",
    "sns.histplot(df_water['Sulfate'], alpha=0.2, kde=True)\n",
    "sns.histplot(imputer_result['Sulfate'], alpha=0.2, kde=True, color='red')\n",
    "plt.legend(['pre', 'post'])\n",
    "plt.show()\n",
    "print('pre: mean: {}, std: {}'.format(np.mean(df_water['Sulfate']), \n",
    "                                      np.std(df_water['Sulfate'])))\n",
    "print('post: mean: {}, std: {}'.format(np.mean(imputer_result['Sulfate']), \n",
    "                                      np.std(imputer_result['Sulfate'])))"
   ]
  },
  {
   "cell_type": "code",
   "execution_count": 6,
   "id": "funny-transmission",
   "metadata": {},
   "outputs": [],
   "source": [
    "df_water['ph'] = imputer_result['ph']\n",
    "df_water['Sulfate'] = imputer_result['Sulfate']\n",
    "\n",
    "df_water = df_water.dropna()"
   ]
  },
  {
   "cell_type": "code",
   "execution_count": 7,
   "id": "independent-preserve",
   "metadata": {},
   "outputs": [
    {
     "data": {
      "text/plain": [
       "<AxesSubplot:>"
      ]
     },
     "execution_count": 7,
     "metadata": {},
     "output_type": "execute_result"
    },
    {
     "data": {
      "image/png": "[encoded data removed]",
      "text/plain": [
       "<Figure size 1800x720 with 2 Axes>"
      ]
     },
     "metadata": {
      "needs_background": "light"
     },
     "output_type": "display_data"
    }
   ],
   "source": [
    "import missingno as msno\n",
    "\n",
    "msno.matrix(df_water) "
   ]
  },
  {
   "cell_type": "code",
   "execution_count": 8,
   "id": "subtle-johns",
   "metadata": {},
   "outputs": [],
   "source": [
    "y = df_water['Potability']\n",
    "x = df_water.drop(['Potability'], axis = 1)"
   ]
  },
  {
   "cell_type": "code",
   "execution_count": 9,
   "id": "outdoor-buffalo",
   "metadata": {},
   "outputs": [
    {
     "name": "stderr",
     "output_type": "stream",
     "text": [
      "c:\\users\\hanun\\venv\\lib\\site-packages\\seaborn\\_decorators.py:36: FutureWarning: Pass the following variable as a keyword arg: x. From version 0.12, the only valid positional argument will be `data`, and passing other arguments without an explicit keyword will result in an error or misinterpretation.\n",
      "  warnings.warn(\n"
     ]
    },
    {
     "name": "stdout",
     "output_type": "stream",
     "text": [
      "0    1891\n",
      "1    1223\n",
      "Name: Potability, dtype: int64\n"
     ]
    },
    {
     "data": {
      "image/png": "[encoded data removed]",
      "text/plain": [
       "<Figure size 432x288 with 1 Axes>"
      ]
     },
     "metadata": {
      "needs_background": "light"
     },
     "output_type": "display_data"
    }
   ],
   "source": [
    "import seaborn as sns\n",
    "\n",
    "sns.countplot(y)\n",
    "print(y.value_counts())"
   ]
  },
  {
   "cell_type": "markdown",
   "id": "8a113c21-afad-4e5a-9b4e-23c0fd9a0d52",
   "metadata": {},
   "source": [
    "(3) Lakukan train test split, test:test = 4:1, stratify = y."
   ]
  },
  {
   "cell_type": "code",
   "execution_count": 10,
   "id": "f3b643f7-f0fc-4d07-a2da-e6be880aad64",
   "metadata": {},
   "outputs": [
    {
     "name": "stdout",
     "output_type": "stream",
     "text": [
      "Jumlah Data Train : 2491\n",
      "Jumlah Data Test : 623\n"
     ]
    }
   ],
   "source": [
    "# Data Split\n",
    "from sklearn.model_selection import train_test_split\n",
    "\n",
    "X_train, X_test, y_train, y_test = train_test_split(\n",
    "    x, y, test_size=0.2\n",
    ")\n",
    "\n",
    "print(\"Jumlah Data Train : {0}\".format(len(X_train)))\n",
    "print(\"Jumlah Data Test : {0}\".format(len(X_test)))"
   ]
  },
  {
   "cell_type": "markdown",
   "id": "054a8ca7-8548-4113-b07c-7754f891675f",
   "metadata": {},
   "source": [
    "(4) Lakukan transformasi pada X_train apabila diperlukan (imputation/scaling/onehotencoding/selection). Lakukan transformasi serupa pada X_test tanpa melakukan fitting kembali."
   ]
  },
  {
   "cell_type": "markdown",
   "id": "civilian-roberts",
   "metadata": {},
   "source": [
    "Data Training"
   ]
  },
  {
   "cell_type": "code",
   "execution_count": 11,
   "id": "mineral-torture",
   "metadata": {},
   "outputs": [
    {
     "data": {
      "text/html": [
       "<div>\n",
       "<style scoped>\n",
       "    .dataframe tbody tr th:only-of-type {\n",
       "        vertical-align: middle;\n",
       "    }\n",
       "\n",
       "    .dataframe tbody tr th {\n",
       "        vertical-align: top;\n",
       "    }\n",
       "\n",
       "    .dataframe thead th {\n",
       "        text-align: right;\n",
       "    }\n",
       "</style>\n",
       "<table border=\"1\" class=\"dataframe\">\n",
       "  <thead>\n",
       "    <tr style=\"text-align: right;\">\n",
       "      <th></th>\n",
       "      <th>ph</th>\n",
       "      <th>Hardness</th>\n",
       "      <th>Solids</th>\n",
       "      <th>Chloramines</th>\n",
       "      <th>Sulfate</th>\n",
       "      <th>Conductivity</th>\n",
       "      <th>Organic_carbon</th>\n",
       "      <th>Trihalomethanes</th>\n",
       "      <th>Turbidity</th>\n",
       "    </tr>\n",
       "  </thead>\n",
       "  <tbody>\n",
       "    <tr>\n",
       "      <th>0</th>\n",
       "      <td>0.424424</td>\n",
       "      <td>0.715796</td>\n",
       "      <td>0.237366</td>\n",
       "      <td>0.472695</td>\n",
       "      <td>0.587438</td>\n",
       "      <td>0.587668</td>\n",
       "      <td>0.526126</td>\n",
       "      <td>0.533931</td>\n",
       "      <td>0.573820</td>\n",
       "    </tr>\n",
       "    <tr>\n",
       "      <th>1</th>\n",
       "      <td>0.689904</td>\n",
       "      <td>0.679049</td>\n",
       "      <td>0.327533</td>\n",
       "      <td>0.524362</td>\n",
       "      <td>0.696478</td>\n",
       "      <td>0.675517</td>\n",
       "      <td>0.512920</td>\n",
       "      <td>0.446999</td>\n",
       "      <td>0.642681</td>\n",
       "    </tr>\n",
       "    <tr>\n",
       "      <th>2</th>\n",
       "      <td>0.526191</td>\n",
       "      <td>0.653418</td>\n",
       "      <td>0.249995</td>\n",
       "      <td>0.587037</td>\n",
       "      <td>0.667856</td>\n",
       "      <td>0.370319</td>\n",
       "      <td>0.496612</td>\n",
       "      <td>0.519173</td>\n",
       "      <td>0.388454</td>\n",
       "    </tr>\n",
       "    <tr>\n",
       "      <th>3</th>\n",
       "      <td>0.568499</td>\n",
       "      <td>0.391965</td>\n",
       "      <td>0.382635</td>\n",
       "      <td>0.719040</td>\n",
       "      <td>0.372070</td>\n",
       "      <td>0.255553</td>\n",
       "      <td>0.533223</td>\n",
       "      <td>0.868200</td>\n",
       "      <td>0.654652</td>\n",
       "    </tr>\n",
       "    <tr>\n",
       "      <th>4</th>\n",
       "      <td>0.499272</td>\n",
       "      <td>0.598389</td>\n",
       "      <td>0.335739</td>\n",
       "      <td>0.626929</td>\n",
       "      <td>0.507124</td>\n",
       "      <td>0.253738</td>\n",
       "      <td>0.386446</td>\n",
       "      <td>0.503242</td>\n",
       "      <td>0.677232</td>\n",
       "    </tr>\n",
       "    <tr>\n",
       "      <th>...</th>\n",
       "      <td>...</td>\n",
       "      <td>...</td>\n",
       "      <td>...</td>\n",
       "      <td>...</td>\n",
       "      <td>...</td>\n",
       "      <td>...</td>\n",
       "      <td>...</td>\n",
       "      <td>...</td>\n",
       "      <td>...</td>\n",
       "    </tr>\n",
       "    <tr>\n",
       "      <th>2486</th>\n",
       "      <td>0.670992</td>\n",
       "      <td>0.730702</td>\n",
       "      <td>0.210640</td>\n",
       "      <td>0.533432</td>\n",
       "      <td>0.526135</td>\n",
       "      <td>0.327617</td>\n",
       "      <td>0.467333</td>\n",
       "      <td>0.405943</td>\n",
       "      <td>0.317822</td>\n",
       "    </tr>\n",
       "    <tr>\n",
       "      <th>2487</th>\n",
       "      <td>0.513212</td>\n",
       "      <td>0.515343</td>\n",
       "      <td>0.409046</td>\n",
       "      <td>0.380797</td>\n",
       "      <td>0.439577</td>\n",
       "      <td>0.354157</td>\n",
       "      <td>0.391860</td>\n",
       "      <td>0.181715</td>\n",
       "      <td>0.443787</td>\n",
       "    </tr>\n",
       "    <tr>\n",
       "      <th>2488</th>\n",
       "      <td>0.583870</td>\n",
       "      <td>0.695308</td>\n",
       "      <td>0.505595</td>\n",
       "      <td>0.342459</td>\n",
       "      <td>0.444086</td>\n",
       "      <td>0.414675</td>\n",
       "      <td>0.485580</td>\n",
       "      <td>0.452095</td>\n",
       "      <td>0.656979</td>\n",
       "    </tr>\n",
       "    <tr>\n",
       "      <th>2489</th>\n",
       "      <td>0.467110</td>\n",
       "      <td>0.575231</td>\n",
       "      <td>0.470540</td>\n",
       "      <td>0.521594</td>\n",
       "      <td>0.520794</td>\n",
       "      <td>0.427727</td>\n",
       "      <td>0.603448</td>\n",
       "      <td>0.440086</td>\n",
       "      <td>0.527715</td>\n",
       "    </tr>\n",
       "    <tr>\n",
       "      <th>2490</th>\n",
       "      <td>0.480990</td>\n",
       "      <td>0.646198</td>\n",
       "      <td>0.255345</td>\n",
       "      <td>0.470722</td>\n",
       "      <td>0.523431</td>\n",
       "      <td>0.322007</td>\n",
       "      <td>0.313906</td>\n",
       "      <td>0.478016</td>\n",
       "      <td>0.656442</td>\n",
       "    </tr>\n",
       "  </tbody>\n",
       "</table>\n",
       "<p>2491 rows × 9 columns</p>\n",
       "</div>"
      ],
      "text/plain": [
       "            ph  Hardness    Solids  Chloramines   Sulfate  Conductivity  \\\n",
       "0     0.424424  0.715796  0.237366     0.472695  0.587438      0.587668   \n",
       "1     0.689904  0.679049  0.327533     0.524362  0.696478      0.675517   \n",
       "2     0.526191  0.653418  0.249995     0.587037  0.667856      0.370319   \n",
       "3     0.568499  0.391965  0.382635     0.719040  0.372070      0.255553   \n",
       "4     0.499272  0.598389  0.335739     0.626929  0.507124      0.253738   \n",
       "...        ...       ...       ...          ...       ...           ...   \n",
       "2486  0.670992  0.730702  0.210640     0.533432  0.526135      0.327617   \n",
       "2487  0.513212  0.515343  0.409046     0.380797  0.439577      0.354157   \n",
       "2488  0.583870  0.695308  0.505595     0.342459  0.444086      0.414675   \n",
       "2489  0.467110  0.575231  0.470540     0.521594  0.520794      0.427727   \n",
       "2490  0.480990  0.646198  0.255345     0.470722  0.523431      0.322007   \n",
       "\n",
       "      Organic_carbon  Trihalomethanes  Turbidity  \n",
       "0           0.526126         0.533931   0.573820  \n",
       "1           0.512920         0.446999   0.642681  \n",
       "2           0.496612         0.519173   0.388454  \n",
       "3           0.533223         0.868200   0.654652  \n",
       "4           0.386446         0.503242   0.677232  \n",
       "...              ...              ...        ...  \n",
       "2486        0.467333         0.405943   0.317822  \n",
       "2487        0.391860         0.181715   0.443787  \n",
       "2488        0.485580         0.452095   0.656979  \n",
       "2489        0.603448         0.440086   0.527715  \n",
       "2490        0.313906         0.478016   0.656442  \n",
       "\n",
       "[2491 rows x 9 columns]"
      ]
     },
     "execution_count": 11,
     "metadata": {},
     "output_type": "execute_result"
    }
   ],
   "source": [
    "from sklearn.preprocessing import MinMaxScaler\n",
    "\n",
    "minmax_scaler = MinMaxScaler()\n",
    "X_train_scaled = minmax_scaler.fit_transform(X_train)\n",
    "\n",
    "X_train_scaled = pd.DataFrame(X_train_scaled)\n",
    "X_train_scaled.columns = X_train.columns\n",
    "X_train_scaled"
   ]
  },
  {
   "cell_type": "markdown",
   "id": "adverse-witch",
   "metadata": {},
   "source": [
    "Data Testing"
   ]
  },
  {
   "cell_type": "code",
   "execution_count": 15,
   "id": "instant-salem",
   "metadata": {},
   "outputs": [
    {
     "data": {
      "text/html": [
       "<div>\n",
       "<style scoped>\n",
       "    .dataframe tbody tr th:only-of-type {\n",
       "        vertical-align: middle;\n",
       "    }\n",
       "\n",
       "    .dataframe tbody tr th {\n",
       "        vertical-align: top;\n",
       "    }\n",
       "\n",
       "    .dataframe thead th {\n",
       "        text-align: right;\n",
       "    }\n",
       "</style>\n",
       "<table border=\"1\" class=\"dataframe\">\n",
       "  <thead>\n",
       "    <tr style=\"text-align: right;\">\n",
       "      <th></th>\n",
       "      <th>ph</th>\n",
       "      <th>Hardness</th>\n",
       "      <th>Solids</th>\n",
       "      <th>Chloramines</th>\n",
       "      <th>Sulfate</th>\n",
       "      <th>Conductivity</th>\n",
       "      <th>Organic_carbon</th>\n",
       "      <th>Trihalomethanes</th>\n",
       "      <th>Turbidity</th>\n",
       "    </tr>\n",
       "  </thead>\n",
       "  <tbody>\n",
       "    <tr>\n",
       "      <th>0</th>\n",
       "      <td>0.448885</td>\n",
       "      <td>0.605428</td>\n",
       "      <td>0.298907</td>\n",
       "      <td>0.675403</td>\n",
       "      <td>0.756359</td>\n",
       "      <td>0.586975</td>\n",
       "      <td>0.523717</td>\n",
       "      <td>0.443335</td>\n",
       "      <td>0.722593</td>\n",
       "    </tr>\n",
       "    <tr>\n",
       "      <th>1</th>\n",
       "      <td>0.570761</td>\n",
       "      <td>0.557894</td>\n",
       "      <td>0.437244</td>\n",
       "      <td>0.560374</td>\n",
       "      <td>0.588388</td>\n",
       "      <td>0.798303</td>\n",
       "      <td>0.449916</td>\n",
       "      <td>0.556996</td>\n",
       "      <td>0.340765</td>\n",
       "    </tr>\n",
       "    <tr>\n",
       "      <th>2</th>\n",
       "      <td>0.481958</td>\n",
       "      <td>0.721031</td>\n",
       "      <td>0.397640</td>\n",
       "      <td>0.160155</td>\n",
       "      <td>0.651165</td>\n",
       "      <td>0.276049</td>\n",
       "      <td>0.504111</td>\n",
       "      <td>0.480706</td>\n",
       "      <td>0.384983</td>\n",
       "    </tr>\n",
       "    <tr>\n",
       "      <th>3</th>\n",
       "      <td>0.419330</td>\n",
       "      <td>0.453224</td>\n",
       "      <td>0.305205</td>\n",
       "      <td>0.637357</td>\n",
       "      <td>0.567415</td>\n",
       "      <td>0.429649</td>\n",
       "      <td>0.425288</td>\n",
       "      <td>0.417196</td>\n",
       "      <td>0.456728</td>\n",
       "    </tr>\n",
       "    <tr>\n",
       "      <th>4</th>\n",
       "      <td>0.418559</td>\n",
       "      <td>0.877594</td>\n",
       "      <td>0.054507</td>\n",
       "      <td>0.291243</td>\n",
       "      <td>0.746234</td>\n",
       "      <td>0.464517</td>\n",
       "      <td>0.159509</td>\n",
       "      <td>0.392800</td>\n",
       "      <td>0.395027</td>\n",
       "    </tr>\n",
       "    <tr>\n",
       "      <th>...</th>\n",
       "      <td>...</td>\n",
       "      <td>...</td>\n",
       "      <td>...</td>\n",
       "      <td>...</td>\n",
       "      <td>...</td>\n",
       "      <td>...</td>\n",
       "      <td>...</td>\n",
       "      <td>...</td>\n",
       "      <td>...</td>\n",
       "    </tr>\n",
       "    <tr>\n",
       "      <th>618</th>\n",
       "      <td>0.652198</td>\n",
       "      <td>0.789088</td>\n",
       "      <td>0.157755</td>\n",
       "      <td>0.443050</td>\n",
       "      <td>0.633903</td>\n",
       "      <td>0.631840</td>\n",
       "      <td>0.336177</td>\n",
       "      <td>0.527693</td>\n",
       "      <td>0.669648</td>\n",
       "    </tr>\n",
       "    <tr>\n",
       "      <th>619</th>\n",
       "      <td>0.632437</td>\n",
       "      <td>0.606580</td>\n",
       "      <td>0.310935</td>\n",
       "      <td>0.418322</td>\n",
       "      <td>0.757686</td>\n",
       "      <td>0.499432</td>\n",
       "      <td>0.316246</td>\n",
       "      <td>0.592567</td>\n",
       "      <td>0.402116</td>\n",
       "    </tr>\n",
       "    <tr>\n",
       "      <th>620</th>\n",
       "      <td>0.569779</td>\n",
       "      <td>0.655831</td>\n",
       "      <td>0.246935</td>\n",
       "      <td>0.421450</td>\n",
       "      <td>0.704990</td>\n",
       "      <td>0.755693</td>\n",
       "      <td>0.459436</td>\n",
       "      <td>0.390858</td>\n",
       "      <td>0.666006</td>\n",
       "    </tr>\n",
       "    <tr>\n",
       "      <th>621</th>\n",
       "      <td>0.351507</td>\n",
       "      <td>0.353683</td>\n",
       "      <td>0.226670</td>\n",
       "      <td>0.473958</td>\n",
       "      <td>0.649989</td>\n",
       "      <td>0.273300</td>\n",
       "      <td>0.729421</td>\n",
       "      <td>0.527060</td>\n",
       "      <td>0.366142</td>\n",
       "    </tr>\n",
       "    <tr>\n",
       "      <th>622</th>\n",
       "      <td>0.519586</td>\n",
       "      <td>0.327879</td>\n",
       "      <td>0.261631</td>\n",
       "      <td>0.571628</td>\n",
       "      <td>0.716359</td>\n",
       "      <td>0.717516</td>\n",
       "      <td>0.387452</td>\n",
       "      <td>0.478189</td>\n",
       "      <td>0.339100</td>\n",
       "    </tr>\n",
       "  </tbody>\n",
       "</table>\n",
       "<p>623 rows × 9 columns</p>\n",
       "</div>"
      ],
      "text/plain": [
       "           ph  Hardness    Solids  Chloramines   Sulfate  Conductivity  \\\n",
       "0    0.448885  0.605428  0.298907     0.675403  0.756359      0.586975   \n",
       "1    0.570761  0.557894  0.437244     0.560374  0.588388      0.798303   \n",
       "2    0.481958  0.721031  0.397640     0.160155  0.651165      0.276049   \n",
       "3    0.419330  0.453224  0.305205     0.637357  0.567415      0.429649   \n",
       "4    0.418559  0.877594  0.054507     0.291243  0.746234      0.464517   \n",
       "..        ...       ...       ...          ...       ...           ...   \n",
       "618  0.652198  0.789088  0.157755     0.443050  0.633903      0.631840   \n",
       "619  0.632437  0.606580  0.310935     0.418322  0.757686      0.499432   \n",
       "620  0.569779  0.655831  0.246935     0.421450  0.704990      0.755693   \n",
       "621  0.351507  0.353683  0.226670     0.473958  0.649989      0.273300   \n",
       "622  0.519586  0.327879  0.261631     0.571628  0.716359      0.717516   \n",
       "\n",
       "     Organic_carbon  Trihalomethanes  Turbidity  \n",
       "0          0.523717         0.443335   0.722593  \n",
       "1          0.449916         0.556996   0.340765  \n",
       "2          0.504111         0.480706   0.384983  \n",
       "3          0.425288         0.417196   0.456728  \n",
       "4          0.159509         0.392800   0.395027  \n",
       "..              ...              ...        ...  \n",
       "618        0.336177         0.527693   0.669648  \n",
       "619        0.316246         0.592567   0.402116  \n",
       "620        0.459436         0.390858   0.666006  \n",
       "621        0.729421         0.527060   0.366142  \n",
       "622        0.387452         0.478189   0.339100  \n",
       "\n",
       "[623 rows x 9 columns]"
      ]
     },
     "execution_count": 15,
     "metadata": {},
     "output_type": "execute_result"
    }
   ],
   "source": [
    "x_test_scaled = minmax_scaler.transform(X_test)\n",
    "\n",
    "x_test_scaled = pd.DataFrame(x_test_scaled)\n",
    "x_test_scaled.columns = X_test.columns\n",
    "x_test_scaled"
   ]
  },
  {
   "cell_type": "markdown",
   "id": "44e75317-aeca-475d-b8c3-2ec47f472b6c",
   "metadata": {},
   "source": [
    "(5) Lakukan cross-validation dengan estimator SVC dengan kernel 'rbf' dengan untuk menentukan nilai optimal untuk hyperparameter 'gamma' dan 'c'. Print classification report untuk trainset dan testset (default vs optimized). Apakah optimisasi meningkatkan performansi dari model?"
   ]
  },
  {
   "cell_type": "code",
   "execution_count": 22,
   "id": "5ccab4fa-a4c5-46eb-ac92-fde7e7770a5b",
   "metadata": {},
   "outputs": [],
   "source": [
    "from sklearn.svm import SVC\n",
    "from sklearn.model_selection import GridSearchCV\n",
    "\n",
    "param_grid = {'gamma':['scale', 'auto'],\n",
    "             'C':[10, 1, 0.1],\n",
    "             'kernel': ['rbf']}\n",
    "\n",
    "svm_rbf = GridSearchCV(SVC(), param_grid, cv=5)\n",
    "\n",
    "svm_rbf.fit(X_train_scaled, y_train)\n",
    "best_param = svm_rbf.best_params_"
   ]
  },
  {
   "cell_type": "code",
   "execution_count": 23,
   "id": "popular-civilian",
   "metadata": {},
   "outputs": [
    {
     "data": {
      "text/plain": [
       "{'C': 1, 'gamma': 'scale', 'kernel': 'rbf'}"
      ]
     },
     "execution_count": 23,
     "metadata": {},
     "output_type": "execute_result"
    }
   ],
   "source": [
    "best_param"
   ]
  },
  {
   "cell_type": "code",
   "execution_count": 26,
   "id": "colonial-lodge",
   "metadata": {},
   "outputs": [],
   "source": [
    "rbf = SVC(kernel='rbf')\n",
    "rbf_opt = SVC(**best_param)\n",
    "\n",
    "rbf.fit(X_train_scaled, y_train)\n",
    "rbf_opt.fit(X_train_scaled, y_train)\n",
    "\n",
    "y_pred_test_def_rbf = rbf.predict(x_test_scaled)\n",
    "y_pred_test_opt_rbf = rbf_opt.predict(x_test_scaled)\n",
    "\n",
    "#X_test_sm, y_test_sm"
   ]
  },
  {
   "cell_type": "code",
   "execution_count": 27,
   "id": "acting-textbook",
   "metadata": {},
   "outputs": [
    {
     "name": "stdout",
     "output_type": "stream",
     "text": [
      "Result of Testing Datast with optimized parameter\n",
      "              precision    recall  f1-score   support\n",
      "\n",
      "           1       0.68      0.23      0.34       247\n",
      "           0       0.65      0.93      0.76       376\n",
      "\n",
      "    accuracy                           0.65       623\n",
      "   macro avg       0.66      0.58      0.55       623\n",
      "weighted avg       0.66      0.65      0.60       623\n",
      "\n"
     ]
    }
   ],
   "source": [
    "from sklearn.metrics import classification_report\n",
    "\n",
    "print('Result of Testing Datast with optimized parameter')\n",
    "print(classification_report(y_test, y_pred_test_opt_rbf, labels=[1,0]))"
   ]
  },
  {
   "cell_type": "code",
   "execution_count": 28,
   "id": "unlikely-intention",
   "metadata": {},
   "outputs": [
    {
     "name": "stdout",
     "output_type": "stream",
     "text": [
      "Result of Testing Datast without optimized parameter\n",
      "              precision    recall  f1-score   support\n",
      "\n",
      "           1       0.68      0.23      0.34       247\n",
      "           0       0.65      0.93      0.76       376\n",
      "\n",
      "    accuracy                           0.65       623\n",
      "   macro avg       0.66      0.58      0.55       623\n",
      "weighted avg       0.66      0.65      0.60       623\n",
      "\n"
     ]
    }
   ],
   "source": [
    "print('Result of Testing Datast without optimized parameter')\n",
    "print(classification_report(y_test, y_pred_test_def_rbf, labels=[1,0]))"
   ]
  },
  {
   "cell_type": "markdown",
   "id": "88ce62a0-49af-48ed-8f69-fddd97bb6696",
   "metadata": {},
   "source": [
    "(6) Lakukan cross-validation dengan estimator SVC dengan kernel 'poly' dengan untuk menentukan nilai optimal untuk hyperparameter 'coef0' dan 'd'. Print classification report untuk trainset dan testset (default vs optimized). Apakah optimisasi meningkatkan performansi dari model?"
   ]
  },
  {
   "cell_type": "code",
   "execution_count": null,
   "id": "3e5e0585-17e0-490f-9e02-6e12311adca7",
   "metadata": {},
   "outputs": [],
   "source": [
    "param_grid = {'degree':[2, 3, 4, 5],\n",
    "             'coef0':[10, 1, 0.1],\n",
    "             'kernel': ['poly']}\n",
    "\n",
    "svm_poly = GridSearchCV(SVC(), param_grid, cv=5)\n",
    "\n",
    "svm_poly.fit(X_train_scaled, y_train)\n",
    "best_param = svm_poly.best_params_"
   ]
  },
  {
   "cell_type": "code",
   "execution_count": null,
   "id": "fatal-suggestion",
   "metadata": {},
   "outputs": [],
   "source": [
    "best_param"
   ]
  },
  {
   "cell_type": "code",
   "execution_count": null,
   "id": "informed-fruit",
   "metadata": {},
   "outputs": [],
   "source": [
    "poly = SVC(kernel='poly')\n",
    "poly_opt = SVC(**best_param)\n",
    "\n",
    "poly.fit(X_train_scaled, y_train)\n",
    "poly_opt.fit(X_train_scaled, y_train)\n",
    "\n",
    "y_pred_test_def_poly = poly.predict(x_test_scaled)\n",
    "y_pred_test_opt_poly = poly_opt.predict(x_test_scaled)\n",
    "\n",
    "#X_test_sm, y_test_sm"
   ]
  },
  {
   "cell_type": "code",
   "execution_count": null,
   "id": "animal-development",
   "metadata": {},
   "outputs": [],
   "source": [
    "from sklearn.metrics import classification_report\n",
    "\n",
    "print('Result of Testing Datast with optimized parameter')\n",
    "print(classification_report(y_test, y_pred_test_opt_poly, labels=[1,0]))"
   ]
  },
  {
   "cell_type": "code",
   "execution_count": null,
   "id": "romantic-beatles",
   "metadata": {},
   "outputs": [],
   "source": [
    "print('Result of Testing Datast without optimized parameter')\n",
    "print(classification_report(y_test, y_pred_test_def_poly, labels=[1,0]))"
   ]
  },
  {
   "cell_type": "markdown",
   "id": "3e269f58-2cae-44a8-a858-1e40f81b82d1",
   "metadata": {},
   "source": [
    "(7) Dari hasil performansi yang Anda dapatkan dengan menggunakan kedua kernel, manakah estimator yang lebih baik untuk memprediksi dataset ini?"
   ]
  },
  {
   "cell_type": "markdown",
   "id": "bigger-cattle",
   "metadata": {},
   "source": [
    "Hasil dari SVM menggunakan rbf dapat dikatakan belum maksimal, seperti juga menggunakan poly. pada saat menggunakan kernel poly juga terdapat kendala yaitu running yang terus menerus. waktu komputasi pada saat menggunakan poly juga sangat lama dari pada menggunakan rbf. untuk alasan kenapa menggunakan poly lebih berat dari pada rbf, saya masih belum menemukan"
   ]
  },
  {
   "cell_type": "code",
   "execution_count": null,
   "id": "a156832d-c684-4e32-8c99-1e47b4df4cba",
   "metadata": {},
   "outputs": [],
   "source": []
  },
  {
   "cell_type": "code",
   "execution_count": null,
   "id": "920ea93c-84d3-4f5b-b7ef-20ae70de11c7",
   "metadata": {},
   "outputs": [],
   "source": []
  }
 ],
 "metadata": {
  "kernelspec": {
   "display_name": "Python 3",
   "language": "python",
   "name": "python3"
  },
  "language_info": {
   "codemirror_mode": {
    "name": "ipython",
    "version": 3
   },
   "file_extension": ".py",
   "mimetype": "text/x-python",
   "name": "python",
   "nbconvert_exporter": "python",
   "pygments_lexer": "ipython3",
   "version": "3.8.7"
  }
 },
 "nbformat": 4,
 "nbformat_minor": 5
}
