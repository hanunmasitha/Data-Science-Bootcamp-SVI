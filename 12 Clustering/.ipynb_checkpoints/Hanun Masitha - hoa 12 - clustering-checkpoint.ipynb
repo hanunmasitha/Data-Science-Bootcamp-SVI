{
 "cells": [
  {
   "cell_type": "markdown",
   "id": "e8cab86e-748f-4524-9842-77e3cd523190",
   "metadata": {},
   "source": [
    "Nama:"
   ]
  },
  {
   "cell_type": "code",
   "execution_count": 1,
   "id": "5fdd3ee4-0c43-48bc-8b9b-80377e3f6cfb",
   "metadata": {},
   "outputs": [
    {
     "name": "stdout",
     "output_type": "stream",
     "text": [
      "Nama : Hanun Masitha Ramadhani\n"
     ]
    }
   ],
   "source": [
    "print(\"Nama : Hanun Masitha Ramadhani\")"
   ]
  },
  {
   "cell_type": "markdown",
   "id": "ccb9c141-d5cc-426e-aca9-ec28016944ab",
   "metadata": {},
   "source": [
    "(1) Lakukan transformasi yang diperlukan pada dataset employee"
   ]
  },
  {
   "cell_type": "code",
   "execution_count": null,
   "id": "54060982-1940-4792-ad0a-a29d7322fad2",
   "metadata": {},
   "outputs": [],
   "source": []
  },
  {
   "cell_type": "markdown",
   "id": "09b6b309-169e-442b-8ff4-5fdd28c76970",
   "metadata": {},
   "source": [
    "(2) Lakukan transformasi PCA pada dataset employee. Tentukan jumlah PC yang optimal dengan membuat plot: number of pc vs explained variance ratio. Buat dataframe yang menunjukkan fitur mana yang dominan pada suatu fitur, apabila koefision >0.3, <-0.3 beri warna pada dataframe."
   ]
  },
  {
   "cell_type": "code",
   "execution_count": null,
   "id": "e96bfc20-fe43-453d-bd6c-cea35c8d5327",
   "metadata": {},
   "outputs": [],
   "source": []
  },
  {
   "cell_type": "markdown",
   "id": "6e170a50-07da-4f33-9e80-88509804c46a",
   "metadata": {},
   "source": [
    "(3) Dengan menggunakan elbow method dan sillhouette score tentukan nilai k optimal untuk pembuatan model kmeans/kmedoids clustering"
   ]
  },
  {
   "cell_type": "code",
   "execution_count": null,
   "id": "337b6a1d-e74d-4d34-a16b-520e8383b001",
   "metadata": {},
   "outputs": [],
   "source": []
  },
  {
   "cell_type": "markdown",
   "id": "2c816bc0-9032-4b8b-a745-a895d9990fe7",
   "metadata": {},
   "source": [
    "(4) Buat EDA untuk tiap cluster pada data pra-transformasi (sebelum scaling/encoding): .describe()"
   ]
  },
  {
   "cell_type": "code",
   "execution_count": null,
   "id": "f96eb26a-cd20-416e-9a81-3d1ccbd0d46e",
   "metadata": {},
   "outputs": [],
   "source": []
  },
  {
   "cell_type": "markdown",
   "id": "05b936b1-9a6b-409f-bd2f-293eb2d33422",
   "metadata": {},
   "source": [
    "(5) Buat EDA numerik-numerik berupa scatterplot/jointplot dengan label sebagai hue."
   ]
  },
  {
   "cell_type": "code",
   "execution_count": null,
   "id": "1161e1f9-63fd-47a6-be3e-e904dd12baac",
   "metadata": {},
   "outputs": [],
   "source": []
  },
  {
   "cell_type": "markdown",
   "id": "a2c5adf4-9fae-4b73-a44b-f5eaaab60752",
   "metadata": {},
   "source": [
    "(6) Buat EDA numerik-label cluster berupa boxplot."
   ]
  },
  {
   "cell_type": "code",
   "execution_count": null,
   "id": "9c747c83-ddd5-4c26-9536-d66815a16549",
   "metadata": {},
   "outputs": [],
   "source": []
  },
  {
   "cell_type": "markdown",
   "id": "4cab4337-53e1-4c69-a985-bfb673d60dd7",
   "metadata": {},
   "source": [
    "(7) Buat EDA kategorik-label cluster berupa stacked barplot dengan label sebagai hue."
   ]
  },
  {
   "cell_type": "code",
   "execution_count": null,
   "id": "8eb842be-520c-478f-a3af-6125b9d9926e",
   "metadata": {},
   "outputs": [],
   "source": []
  },
  {
   "cell_type": "markdown",
   "id": "e5dec1ec-345f-4981-bd60-32b047f29768",
   "metadata": {},
   "source": [
    "(8) Tuliskan hal-hal yang menurut Anda menarik dari hasil EDA yang Anda lakukan."
   ]
  },
  {
   "cell_type": "code",
   "execution_count": null,
   "id": "ca6bb4b5-61d7-49b1-b6a8-259294c674cd",
   "metadata": {},
   "outputs": [],
   "source": []
  }
 ],
 "metadata": {
  "kernelspec": {
   "display_name": "Python 3",
   "language": "python",
   "name": "python3"
  },
  "language_info": {
   "codemirror_mode": {
    "name": "ipython",
    "version": 3
   },
   "file_extension": ".py",
   "mimetype": "text/x-python",
   "name": "python",
   "nbconvert_exporter": "python",
   "pygments_lexer": "ipython3",
   "version": "3.8.7"
  }
 },
 "nbformat": 4,
 "nbformat_minor": 5
}
