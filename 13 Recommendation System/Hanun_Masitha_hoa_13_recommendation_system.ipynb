{
  "cells": [
    {
      "cell_type": "markdown",
      "id": "e11597f2-e1db-40ec-ae09-5765cf818eaa",
      "metadata": {
        "id": "e11597f2-e1db-40ec-ae09-5765cf818eaa"
      },
      "source": [
        "Nama: Hanun Masitha Ramadhani"
      ]
    },
    {
      "cell_type": "code",
      "execution_count": 1,
      "id": "5719e710-0b88-4267-b0dc-d415cd6fd4d5",
      "metadata": {
        "id": "5719e710-0b88-4267-b0dc-d415cd6fd4d5"
      },
      "outputs": [],
      "source": [
        "import pandas as pd\n",
        "df = pd.read_csv('/content/song.csv')\n",
        "df = df[:20000]"
      ]
    },
    {
      "cell_type": "code",
      "execution_count": 2,
      "id": "passive-music",
      "metadata": {
        "id": "passive-music"
      },
      "outputs": [],
      "source": [
        "song_dict1 = {}\n",
        "song_dict2 = {}\n",
        "for x, y in zip(df['song_id'], df['title']):\n",
        "    if x not in song_dict1.keys():\n",
        "        song_dict1[x] = y\n",
        "        song_dict2[y] = x"
      ]
    },
    {
      "cell_type": "markdown",
      "id": "ec493c58-5054-4864-a168-4e4850f03472",
      "metadata": {
        "id": "ec493c58-5054-4864-a168-4e4850f03472"
      },
      "source": [
        "(1) Buatlah sistem rekomendasi popularity-based berupa fungsi kustom yang menerima 3 argumen: dataset, jumlah lagu yang direkomendasikan, dan minimal jumlah rating lagu. Print rekomendasi top 10 lagu."
      ]
    },
    {
      "cell_type": "code",
      "execution_count": 3,
      "id": "9b9835ce-bd7a-4406-bfe9-36793870ac87",
      "metadata": {
        "colab": {
          "base_uri": "https://localhost:8080/",
          "height": 455
        },
        "id": "9b9835ce-bd7a-4406-bfe9-36793870ac87",
        "outputId": "e33d4fac-6820-4143-c9f2-ca48d113041d"
      },
      "outputs": [
        {
          "output_type": "execute_result",
          "data": {
            "text/plain": [
              "         count    rating\n",
              "song_id                 \n",
              "16         667  1.161919\n",
              "45         113  1.035398\n",
              "108        143  1.104895\n",
              "267        269  1.059480\n",
              "315        104  1.153846\n",
              "...        ...       ...\n",
              "9562       184  1.228261\n",
              "9614        84  1.083333\n",
              "9775       104  1.096154\n",
              "9921        97  1.134021\n",
              "9936       235  1.093617\n",
              "\n",
              "[110 rows x 2 columns]"
            ],
            "text/html": [
              "\n",
              "  <div id=\"df-2ebd5632-0762-4613-8071-09e739e4f61b\">\n",
              "    <div class=\"colab-df-container\">\n",
              "      <div>\n",
              "<style scoped>\n",
              "    .dataframe tbody tr th:only-of-type {\n",
              "        vertical-align: middle;\n",
              "    }\n",
              "\n",
              "    .dataframe tbody tr th {\n",
              "        vertical-align: top;\n",
              "    }\n",
              "\n",
              "    .dataframe thead th {\n",
              "        text-align: right;\n",
              "    }\n",
              "</style>\n",
              "<table border=\"1\" class=\"dataframe\">\n",
              "  <thead>\n",
              "    <tr style=\"text-align: right;\">\n",
              "      <th></th>\n",
              "      <th>count</th>\n",
              "      <th>rating</th>\n",
              "    </tr>\n",
              "    <tr>\n",
              "      <th>song_id</th>\n",
              "      <th></th>\n",
              "      <th></th>\n",
              "    </tr>\n",
              "  </thead>\n",
              "  <tbody>\n",
              "    <tr>\n",
              "      <th>16</th>\n",
              "      <td>667</td>\n",
              "      <td>1.161919</td>\n",
              "    </tr>\n",
              "    <tr>\n",
              "      <th>45</th>\n",
              "      <td>113</td>\n",
              "      <td>1.035398</td>\n",
              "    </tr>\n",
              "    <tr>\n",
              "      <th>108</th>\n",
              "      <td>143</td>\n",
              "      <td>1.104895</td>\n",
              "    </tr>\n",
              "    <tr>\n",
              "      <th>267</th>\n",
              "      <td>269</td>\n",
              "      <td>1.059480</td>\n",
              "    </tr>\n",
              "    <tr>\n",
              "      <th>315</th>\n",
              "      <td>104</td>\n",
              "      <td>1.153846</td>\n",
              "    </tr>\n",
              "    <tr>\n",
              "      <th>...</th>\n",
              "      <td>...</td>\n",
              "      <td>...</td>\n",
              "    </tr>\n",
              "    <tr>\n",
              "      <th>9562</th>\n",
              "      <td>184</td>\n",
              "      <td>1.228261</td>\n",
              "    </tr>\n",
              "    <tr>\n",
              "      <th>9614</th>\n",
              "      <td>84</td>\n",
              "      <td>1.083333</td>\n",
              "    </tr>\n",
              "    <tr>\n",
              "      <th>9775</th>\n",
              "      <td>104</td>\n",
              "      <td>1.096154</td>\n",
              "    </tr>\n",
              "    <tr>\n",
              "      <th>9921</th>\n",
              "      <td>97</td>\n",
              "      <td>1.134021</td>\n",
              "    </tr>\n",
              "    <tr>\n",
              "      <th>9936</th>\n",
              "      <td>235</td>\n",
              "      <td>1.093617</td>\n",
              "    </tr>\n",
              "  </tbody>\n",
              "</table>\n",
              "<p>110 rows × 2 columns</p>\n",
              "</div>\n",
              "      <button class=\"colab-df-convert\" onclick=\"convertToInteractive('df-2ebd5632-0762-4613-8071-09e739e4f61b')\"\n",
              "              title=\"Convert this dataframe to an interactive table.\"\n",
              "              style=\"display:none;\">\n",
              "        \n",
              "  <svg xmlns=\"http://www.w3.org/2000/svg\" height=\"24px\"viewBox=\"0 0 24 24\"\n",
              "       width=\"24px\">\n",
              "    <path d=\"M0 0h24v24H0V0z\" fill=\"none\"/>\n",
              "    <path d=\"M18.56 5.44l.94 2.06.94-2.06 2.06-.94-2.06-.94-.94-2.06-.94 2.06-2.06.94zm-11 1L8.5 8.5l.94-2.06 2.06-.94-2.06-.94L8.5 2.5l-.94 2.06-2.06.94zm10 10l.94 2.06.94-2.06 2.06-.94-2.06-.94-.94-2.06-.94 2.06-2.06.94z\"/><path d=\"M17.41 7.96l-1.37-1.37c-.4-.4-.92-.59-1.43-.59-.52 0-1.04.2-1.43.59L10.3 9.45l-7.72 7.72c-.78.78-.78 2.05 0 2.83L4 21.41c.39.39.9.59 1.41.59.51 0 1.02-.2 1.41-.59l7.78-7.78 2.81-2.81c.8-.78.8-2.07 0-2.86zM5.41 20L4 18.59l7.72-7.72 1.47 1.35L5.41 20z\"/>\n",
              "  </svg>\n",
              "      </button>\n",
              "      \n",
              "  <style>\n",
              "    .colab-df-container {\n",
              "      display:flex;\n",
              "      flex-wrap:wrap;\n",
              "      gap: 12px;\n",
              "    }\n",
              "\n",
              "    .colab-df-convert {\n",
              "      background-color: #E8F0FE;\n",
              "      border: none;\n",
              "      border-radius: 50%;\n",
              "      cursor: pointer;\n",
              "      display: none;\n",
              "      fill: #1967D2;\n",
              "      height: 32px;\n",
              "      padding: 0 0 0 0;\n",
              "      width: 32px;\n",
              "    }\n",
              "\n",
              "    .colab-df-convert:hover {\n",
              "      background-color: #E2EBFA;\n",
              "      box-shadow: 0px 1px 2px rgba(60, 64, 67, 0.3), 0px 1px 3px 1px rgba(60, 64, 67, 0.15);\n",
              "      fill: #174EA6;\n",
              "    }\n",
              "\n",
              "    [theme=dark] .colab-df-convert {\n",
              "      background-color: #3B4455;\n",
              "      fill: #D2E3FC;\n",
              "    }\n",
              "\n",
              "    [theme=dark] .colab-df-convert:hover {\n",
              "      background-color: #434B5C;\n",
              "      box-shadow: 0px 1px 3px 1px rgba(0, 0, 0, 0.15);\n",
              "      filter: drop-shadow(0px 1px 2px rgba(0, 0, 0, 0.3));\n",
              "      fill: #FFFFFF;\n",
              "    }\n",
              "  </style>\n",
              "\n",
              "      <script>\n",
              "        const buttonEl =\n",
              "          document.querySelector('#df-2ebd5632-0762-4613-8071-09e739e4f61b button.colab-df-convert');\n",
              "        buttonEl.style.display =\n",
              "          google.colab.kernel.accessAllowed ? 'block' : 'none';\n",
              "\n",
              "        async function convertToInteractive(key) {\n",
              "          const element = document.querySelector('#df-2ebd5632-0762-4613-8071-09e739e4f61b');\n",
              "          const dataTable =\n",
              "            await google.colab.kernel.invokeFunction('convertToInteractive',\n",
              "                                                     [key], {});\n",
              "          if (!dataTable) return;\n",
              "\n",
              "          const docLinkHtml = 'Like what you see? Visit the ' +\n",
              "            '<a target=\"_blank\" href=https://colab.research.google.com/notebooks/data_table.ipynb>data table notebook</a>'\n",
              "            + ' to learn more about interactive tables.';\n",
              "          element.innerHTML = '';\n",
              "          dataTable['output_type'] = 'display_data';\n",
              "          await google.colab.output.renderOutput(dataTable, element);\n",
              "          const docLink = document.createElement('div');\n",
              "          docLink.innerHTML = docLinkHtml;\n",
              "          element.appendChild(docLink);\n",
              "        }\n",
              "      </script>\n",
              "    </div>\n",
              "  </div>\n",
              "  "
            ]
          },
          "metadata": {},
          "execution_count": 3
        }
      ],
      "source": [
        "popular = pd.DataFrame({'count':df.groupby('song_id').count()['user_id'],\n",
        "                       'rating':df.groupby('song_id').mean()['rating']})\n",
        "popular"
      ]
    },
    {
      "cell_type": "code",
      "execution_count": 4,
      "id": "wicked-dover",
      "metadata": {
        "colab": {
          "base_uri": "https://localhost:8080/"
        },
        "id": "wicked-dover",
        "outputId": "f7785a37-d241-4ad7-c14f-6ae57dca0c16"
      },
      "outputs": [
        {
          "output_type": "execute_result",
          "data": {
            "text/plain": [
              "1.6904761904761905"
            ]
          },
          "metadata": {},
          "execution_count": 4
        }
      ],
      "source": [
        "popular['rating'].max()"
      ]
    },
    {
      "cell_type": "code",
      "execution_count": 5,
      "id": "effective-pricing",
      "metadata": {
        "colab": {
          "base_uri": "https://localhost:8080/"
        },
        "id": "effective-pricing",
        "outputId": "e127d23c-32cc-4156-cd93-659ff1ca1be5"
      },
      "outputs": [
        {
          "output_type": "execute_result",
          "data": {
            "text/plain": [
              "1.0149253731343284"
            ]
          },
          "metadata": {},
          "execution_count": 5
        }
      ],
      "source": [
        "popular['rating'].min()"
      ]
    },
    {
      "cell_type": "code",
      "execution_count": 6,
      "id": "incident-quarter",
      "metadata": {
        "id": "incident-quarter"
      },
      "outputs": [],
      "source": [
        "def popular_recom(dataset, min_rating, k):\n",
        "    a = []\n",
        "    popular2 = dataset[dataset['rating']>=min_rating].sort_values('rating', ascending=False)\n",
        "    for x in popular2.index[:k]:\n",
        "        a.append(song_dict1[x])\n",
        "    return a"
      ]
    },
    {
      "cell_type": "code",
      "execution_count": 7,
      "id": "therapeutic-possible",
      "metadata": {
        "colab": {
          "base_uri": "https://localhost:8080/"
        },
        "id": "therapeutic-possible",
        "outputId": "e14d8015-e94a-4cc3-dbe6-e63ddb495770"
      },
      "outputs": [
        {
          "output_type": "execute_result",
          "data": {
            "text/plain": [
              "['Disconnect_ Disconnect',\n",
              " 'OVO MI JE `KOLA',\n",
              " 'Here I Am To Worship (Here I Am To Worship Album Version)',\n",
              " 'City Of Angels',\n",
              " 'The Stallion']"
            ]
          },
          "metadata": {},
          "execution_count": 7
        }
      ],
      "source": [
        "popular_recom(popular, 1.5, 10)"
      ]
    },
    {
      "cell_type": "markdown",
      "id": "1481a178-4294-4154-8fb1-97546aa60d91",
      "metadata": {
        "id": "1481a178-4294-4154-8fb1-97546aa60d91"
      },
      "source": [
        "(2) Buatlah sistem rekomendasi collaborative filtering user-user. Hitung RMSE dari sistem rekomendasi yang dibuat. Buat sistem rekomendasi berupa fungsi kustom yang menerima 4 argumen: dataset, user id, jumlah lagu yang direkomendasikan, dan algoritma. Pastikan rekomendasi yang diberikan adalah lagu yang belum diberi rating oleh user. Print rekomendasi top 10 lagu untuk salah satu user."
      ]
    },
    {
      "cell_type": "code",
      "execution_count": 8,
      "id": "2577747f-cbb3-4b56-8fbb-2796f90a2f62",
      "metadata": {
        "colab": {
          "base_uri": "https://localhost:8080/"
        },
        "id": "2577747f-cbb3-4b56-8fbb-2796f90a2f62",
        "outputId": "497e9e15-fcd8-4bd8-bc2f-03a4f1732b85"
      },
      "outputs": [
        {
          "output_type": "stream",
          "name": "stdout",
          "text": [
            "Requirement already satisfied: scikit-surprise in /usr/local/lib/python3.7/dist-packages (1.1.1)\n",
            "Requirement already satisfied: six>=1.10.0 in /usr/local/lib/python3.7/dist-packages (from scikit-surprise) (1.15.0)\n",
            "Requirement already satisfied: scipy>=1.0.0 in /usr/local/lib/python3.7/dist-packages (from scikit-surprise) (1.4.1)\n",
            "Requirement already satisfied: numpy>=1.11.2 in /usr/local/lib/python3.7/dist-packages (from scikit-surprise) (1.21.5)\n",
            "Requirement already satisfied: joblib>=0.11 in /usr/local/lib/python3.7/dist-packages (from scikit-surprise) (1.1.0)\n"
          ]
        }
      ],
      "source": [
        "!pip install scikit-surprise\n",
        "from surprise import KNNBasic, Dataset, Reader, accuracy\n",
        "from surprise.model_selection import train_test_split, GridSearchCV"
      ]
    },
    {
      "cell_type": "code",
      "source": [
        "df2 = df[['user_id', 'song_id', 'rating']]"
      ],
      "metadata": {
        "id": "85L3XUVrIra6"
      },
      "id": "85L3XUVrIra6",
      "execution_count": 9,
      "outputs": []
    },
    {
      "cell_type": "code",
      "source": [
        "df2.info()"
      ],
      "metadata": {
        "colab": {
          "base_uri": "https://localhost:8080/"
        },
        "id": "YCzwxSWJIxxr",
        "outputId": "e918575e-61f9-4d9d-e4e6-7955901dd7c6"
      },
      "id": "YCzwxSWJIxxr",
      "execution_count": 10,
      "outputs": [
        {
          "output_type": "stream",
          "name": "stdout",
          "text": [
            "<class 'pandas.core.frame.DataFrame'>\n",
            "RangeIndex: 20000 entries, 0 to 19999\n",
            "Data columns (total 3 columns):\n",
            " #   Column   Non-Null Count  Dtype  \n",
            "---  ------   --------------  -----  \n",
            " 0   user_id  20000 non-null  int64  \n",
            " 1   song_id  20000 non-null  int64  \n",
            " 2   rating   20000 non-null  float64\n",
            "dtypes: float64(1), int64(2)\n",
            "memory usage: 468.9 KB\n"
          ]
        }
      ]
    },
    {
      "cell_type": "code",
      "source": [
        "reader = Reader(rating_scale=(0,5))\n",
        "data = Dataset.load_from_df(df2, reader)\n",
        "trainset, testset = train_test_split(data, test_size=0.2, random_state=42)"
      ],
      "metadata": {
        "id": "ExUmJf0VJMBo"
      },
      "id": "ExUmJf0VJMBo",
      "execution_count": 11,
      "outputs": []
    },
    {
      "cell_type": "code",
      "source": [
        "data"
      ],
      "metadata": {
        "colab": {
          "base_uri": "https://localhost:8080/"
        },
        "id": "_eQemcQAKDvn",
        "outputId": "eedb1f9c-7999-4e75-a0a2-396c85e36d0a"
      },
      "id": "_eQemcQAKDvn",
      "execution_count": 12,
      "outputs": [
        {
          "output_type": "execute_result",
          "data": {
            "text/plain": [
              "<surprise.dataset.DatasetAutoFolds at 0x7f4ba409a090>"
            ]
          },
          "metadata": {},
          "execution_count": 12
        }
      ]
    },
    {
      "cell_type": "code",
      "source": [
        "param_grid = {'k': [30, 40],\n",
        "             'min_k': [6, 9],\n",
        "             'sim_options' : {'name': ['msd', 'pearson'],\n",
        "                             'user_based': [True]}}\n",
        "gscv = GridSearchCV(KNNBasic, param_grid, cv=4, measures = ['rmse'])"
      ],
      "metadata": {
        "id": "sl1nQ8gMJNdV"
      },
      "id": "sl1nQ8gMJNdV",
      "execution_count": 15,
      "outputs": []
    },
    {
      "cell_type": "code",
      "source": [
        "gscv.fit(data)"
      ],
      "metadata": {
        "colab": {
          "base_uri": "https://localhost:8080/"
        },
        "id": "BEYh4ZilJP9S",
        "outputId": "5b1dc011-42f4-472f-ae49-4f6de0cee66d"
      },
      "id": "BEYh4ZilJP9S",
      "execution_count": 16,
      "outputs": [
        {
          "output_type": "stream",
          "name": "stdout",
          "text": [
            "Computing the msd similarity matrix...\n",
            "Done computing similarity matrix.\n",
            "Computing the msd similarity matrix...\n",
            "Done computing similarity matrix.\n",
            "Computing the msd similarity matrix...\n",
            "Done computing similarity matrix.\n",
            "Computing the msd similarity matrix...\n",
            "Done computing similarity matrix.\n",
            "Computing the pearson similarity matrix...\n",
            "Done computing similarity matrix.\n",
            "Computing the pearson similarity matrix...\n",
            "Done computing similarity matrix.\n",
            "Computing the pearson similarity matrix...\n",
            "Done computing similarity matrix.\n",
            "Computing the pearson similarity matrix...\n",
            "Done computing similarity matrix.\n",
            "Computing the msd similarity matrix...\n",
            "Done computing similarity matrix.\n",
            "Computing the msd similarity matrix...\n",
            "Done computing similarity matrix.\n",
            "Computing the msd similarity matrix...\n",
            "Done computing similarity matrix.\n",
            "Computing the msd similarity matrix...\n",
            "Done computing similarity matrix.\n",
            "Computing the pearson similarity matrix...\n",
            "Done computing similarity matrix.\n",
            "Computing the pearson similarity matrix...\n",
            "Done computing similarity matrix.\n",
            "Computing the pearson similarity matrix...\n",
            "Done computing similarity matrix.\n",
            "Computing the pearson similarity matrix...\n",
            "Done computing similarity matrix.\n",
            "Computing the msd similarity matrix...\n",
            "Done computing similarity matrix.\n",
            "Computing the msd similarity matrix...\n",
            "Done computing similarity matrix.\n",
            "Computing the msd similarity matrix...\n",
            "Done computing similarity matrix.\n",
            "Computing the msd similarity matrix...\n",
            "Done computing similarity matrix.\n",
            "Computing the pearson similarity matrix...\n",
            "Done computing similarity matrix.\n",
            "Computing the pearson similarity matrix...\n",
            "Done computing similarity matrix.\n",
            "Computing the pearson similarity matrix...\n",
            "Done computing similarity matrix.\n",
            "Computing the pearson similarity matrix...\n",
            "Done computing similarity matrix.\n",
            "Computing the msd similarity matrix...\n",
            "Done computing similarity matrix.\n",
            "Computing the msd similarity matrix...\n",
            "Done computing similarity matrix.\n",
            "Computing the msd similarity matrix...\n",
            "Done computing similarity matrix.\n",
            "Computing the msd similarity matrix...\n",
            "Done computing similarity matrix.\n",
            "Computing the pearson similarity matrix...\n",
            "Done computing similarity matrix.\n",
            "Computing the pearson similarity matrix...\n",
            "Done computing similarity matrix.\n",
            "Computing the pearson similarity matrix...\n",
            "Done computing similarity matrix.\n",
            "Computing the pearson similarity matrix...\n",
            "Done computing similarity matrix.\n"
          ]
        }
      ]
    },
    {
      "cell_type": "code",
      "source": [
        "gscv.best_score"
      ],
      "metadata": {
        "colab": {
          "base_uri": "https://localhost:8080/"
        },
        "id": "xA2mIt-mJSjt",
        "outputId": "f4c255fc-514e-468f-b3d4-5f70b543bfd7"
      },
      "id": "xA2mIt-mJSjt",
      "execution_count": 17,
      "outputs": [
        {
          "output_type": "execute_result",
          "data": {
            "text/plain": [
              "{'rmse': 0.47045993909836636}"
            ]
          },
          "metadata": {},
          "execution_count": 17
        }
      ]
    },
    {
      "cell_type": "code",
      "source": [
        "gscv.best_params"
      ],
      "metadata": {
        "colab": {
          "base_uri": "https://localhost:8080/"
        },
        "id": "tFVUSfRPPboQ",
        "outputId": "00199164-1387-4f98-8d80-37f53f632aee"
      },
      "id": "tFVUSfRPPboQ",
      "execution_count": 18,
      "outputs": [
        {
          "output_type": "execute_result",
          "data": {
            "text/plain": [
              "{'rmse': {'k': 30,\n",
              "  'min_k': 9,\n",
              "  'sim_options': {'name': 'msd', 'user_based': True}}}"
            ]
          },
          "metadata": {},
          "execution_count": 18
        }
      ]
    },
    {
      "cell_type": "code",
      "source": [
        "knn_user = KNNBasic(**gscv.best_params)\n",
        "knn_user.fit(trainset)"
      ],
      "metadata": {
        "colab": {
          "base_uri": "https://localhost:8080/"
        },
        "id": "jDhmVz_VPdeB",
        "outputId": "bd57de2f-3a00-41bb-c03c-d924bf9771bf"
      },
      "id": "jDhmVz_VPdeB",
      "execution_count": 19,
      "outputs": [
        {
          "output_type": "stream",
          "name": "stdout",
          "text": [
            "Computing the msd similarity matrix...\n",
            "Done computing similarity matrix.\n"
          ]
        },
        {
          "output_type": "execute_result",
          "data": {
            "text/plain": [
              "<surprise.prediction_algorithms.knns.KNNBasic at 0x7f4bb1870290>"
            ]
          },
          "metadata": {},
          "execution_count": 19
        }
      ]
    },
    {
      "cell_type": "code",
      "source": [
        "def get_recom_user(dataset, user, k, algo):\n",
        "    dataset_user = pd.pivot_table(dataset, index='user_id', columns='song_id').loc[user]\n",
        "    dataset_user_null = dataset_user[dataset_user.isnull()].reset_index()\n",
        "    non_interacted = []\n",
        "    for x,y in zip(dataset_user_null.loc[:,user], dataset_user_null.loc[:,'song_id']):\n",
        "        if pd.isnull(x) == True:\n",
        "            non_interacted.append(y)\n",
        "    non_interacted_df = {'movie':{}, 'estimated_rating':{}}\n",
        "    for x, y in zip(non_interacted, range(len(non_interacted))):\n",
        "        non_interacted_df['movie'][y] = song_dict1[x]\n",
        "        non_interacted_df['estimated_rating'][y] = algo.predict(user, x).est\n",
        "    f = pd.DataFrame(non_interacted_df).sort_values('estimated_rating', ascending=False).iloc[:k,:]\n",
        "    return f"
      ],
      "metadata": {
        "id": "jbWnBk8MPfwf"
      },
      "id": "jbWnBk8MPfwf",
      "execution_count": 37,
      "outputs": []
    },
    {
      "cell_type": "code",
      "source": [
        "get_recom_user(df2, 66345, 10, knn_user)"
      ],
      "metadata": {
        "colab": {
          "base_uri": "https://localhost:8080/",
          "height": 363
        },
        "id": "Km-fzBBaPiWQ",
        "outputId": "0b2e8308-e9c8-4486-aa73-7186bd5a6dbd"
      },
      "id": "Km-fzBBaPiWQ",
      "execution_count": 38,
      "outputs": [
        {
          "output_type": "execute_result",
          "data": {
            "text/plain": [
              "                                                movie  estimated_rating\n",
              "39                                   Gel (LP Version)          2.250000\n",
              "84                                       Love Is Here          2.000000\n",
              "63                                             Habana          2.000000\n",
              "22  Sing_ Sing_ Sing (Key-E-Premiere Performance P...          2.000000\n",
              "38                                  Hell On The Heart          2.000000\n",
              "86                                         Bar Tacuba          2.000000\n",
              "53                                      D.O.A. Part 2          1.782609\n",
              "87                    Hymne A L'Amour (Album Version)          1.666667\n",
              "28              Amazing Grace (1999 Digital Remaster)          1.500000\n",
              "25                                    OVO MI JE `KOLA          1.500000"
            ],
            "text/html": [
              "\n",
              "  <div id=\"df-66d998d4-875e-4e95-9672-5b81a588ed65\">\n",
              "    <div class=\"colab-df-container\">\n",
              "      <div>\n",
              "<style scoped>\n",
              "    .dataframe tbody tr th:only-of-type {\n",
              "        vertical-align: middle;\n",
              "    }\n",
              "\n",
              "    .dataframe tbody tr th {\n",
              "        vertical-align: top;\n",
              "    }\n",
              "\n",
              "    .dataframe thead th {\n",
              "        text-align: right;\n",
              "    }\n",
              "</style>\n",
              "<table border=\"1\" class=\"dataframe\">\n",
              "  <thead>\n",
              "    <tr style=\"text-align: right;\">\n",
              "      <th></th>\n",
              "      <th>movie</th>\n",
              "      <th>estimated_rating</th>\n",
              "    </tr>\n",
              "  </thead>\n",
              "  <tbody>\n",
              "    <tr>\n",
              "      <th>39</th>\n",
              "      <td>Gel (LP Version)</td>\n",
              "      <td>2.250000</td>\n",
              "    </tr>\n",
              "    <tr>\n",
              "      <th>84</th>\n",
              "      <td>Love Is Here</td>\n",
              "      <td>2.000000</td>\n",
              "    </tr>\n",
              "    <tr>\n",
              "      <th>63</th>\n",
              "      <td>Habana</td>\n",
              "      <td>2.000000</td>\n",
              "    </tr>\n",
              "    <tr>\n",
              "      <th>22</th>\n",
              "      <td>Sing_ Sing_ Sing (Key-E-Premiere Performance P...</td>\n",
              "      <td>2.000000</td>\n",
              "    </tr>\n",
              "    <tr>\n",
              "      <th>38</th>\n",
              "      <td>Hell On The Heart</td>\n",
              "      <td>2.000000</td>\n",
              "    </tr>\n",
              "    <tr>\n",
              "      <th>86</th>\n",
              "      <td>Bar Tacuba</td>\n",
              "      <td>2.000000</td>\n",
              "    </tr>\n",
              "    <tr>\n",
              "      <th>53</th>\n",
              "      <td>D.O.A. Part 2</td>\n",
              "      <td>1.782609</td>\n",
              "    </tr>\n",
              "    <tr>\n",
              "      <th>87</th>\n",
              "      <td>Hymne A L'Amour (Album Version)</td>\n",
              "      <td>1.666667</td>\n",
              "    </tr>\n",
              "    <tr>\n",
              "      <th>28</th>\n",
              "      <td>Amazing Grace (1999 Digital Remaster)</td>\n",
              "      <td>1.500000</td>\n",
              "    </tr>\n",
              "    <tr>\n",
              "      <th>25</th>\n",
              "      <td>OVO MI JE `KOLA</td>\n",
              "      <td>1.500000</td>\n",
              "    </tr>\n",
              "  </tbody>\n",
              "</table>\n",
              "</div>\n",
              "      <button class=\"colab-df-convert\" onclick=\"convertToInteractive('df-66d998d4-875e-4e95-9672-5b81a588ed65')\"\n",
              "              title=\"Convert this dataframe to an interactive table.\"\n",
              "              style=\"display:none;\">\n",
              "        \n",
              "  <svg xmlns=\"http://www.w3.org/2000/svg\" height=\"24px\"viewBox=\"0 0 24 24\"\n",
              "       width=\"24px\">\n",
              "    <path d=\"M0 0h24v24H0V0z\" fill=\"none\"/>\n",
              "    <path d=\"M18.56 5.44l.94 2.06.94-2.06 2.06-.94-2.06-.94-.94-2.06-.94 2.06-2.06.94zm-11 1L8.5 8.5l.94-2.06 2.06-.94-2.06-.94L8.5 2.5l-.94 2.06-2.06.94zm10 10l.94 2.06.94-2.06 2.06-.94-2.06-.94-.94-2.06-.94 2.06-2.06.94z\"/><path d=\"M17.41 7.96l-1.37-1.37c-.4-.4-.92-.59-1.43-.59-.52 0-1.04.2-1.43.59L10.3 9.45l-7.72 7.72c-.78.78-.78 2.05 0 2.83L4 21.41c.39.39.9.59 1.41.59.51 0 1.02-.2 1.41-.59l7.78-7.78 2.81-2.81c.8-.78.8-2.07 0-2.86zM5.41 20L4 18.59l7.72-7.72 1.47 1.35L5.41 20z\"/>\n",
              "  </svg>\n",
              "      </button>\n",
              "      \n",
              "  <style>\n",
              "    .colab-df-container {\n",
              "      display:flex;\n",
              "      flex-wrap:wrap;\n",
              "      gap: 12px;\n",
              "    }\n",
              "\n",
              "    .colab-df-convert {\n",
              "      background-color: #E8F0FE;\n",
              "      border: none;\n",
              "      border-radius: 50%;\n",
              "      cursor: pointer;\n",
              "      display: none;\n",
              "      fill: #1967D2;\n",
              "      height: 32px;\n",
              "      padding: 0 0 0 0;\n",
              "      width: 32px;\n",
              "    }\n",
              "\n",
              "    .colab-df-convert:hover {\n",
              "      background-color: #E2EBFA;\n",
              "      box-shadow: 0px 1px 2px rgba(60, 64, 67, 0.3), 0px 1px 3px 1px rgba(60, 64, 67, 0.15);\n",
              "      fill: #174EA6;\n",
              "    }\n",
              "\n",
              "    [theme=dark] .colab-df-convert {\n",
              "      background-color: #3B4455;\n",
              "      fill: #D2E3FC;\n",
              "    }\n",
              "\n",
              "    [theme=dark] .colab-df-convert:hover {\n",
              "      background-color: #434B5C;\n",
              "      box-shadow: 0px 1px 3px 1px rgba(0, 0, 0, 0.15);\n",
              "      filter: drop-shadow(0px 1px 2px rgba(0, 0, 0, 0.3));\n",
              "      fill: #FFFFFF;\n",
              "    }\n",
              "  </style>\n",
              "\n",
              "      <script>\n",
              "        const buttonEl =\n",
              "          document.querySelector('#df-66d998d4-875e-4e95-9672-5b81a588ed65 button.colab-df-convert');\n",
              "        buttonEl.style.display =\n",
              "          google.colab.kernel.accessAllowed ? 'block' : 'none';\n",
              "\n",
              "        async function convertToInteractive(key) {\n",
              "          const element = document.querySelector('#df-66d998d4-875e-4e95-9672-5b81a588ed65');\n",
              "          const dataTable =\n",
              "            await google.colab.kernel.invokeFunction('convertToInteractive',\n",
              "                                                     [key], {});\n",
              "          if (!dataTable) return;\n",
              "\n",
              "          const docLinkHtml = 'Like what you see? Visit the ' +\n",
              "            '<a target=\"_blank\" href=https://colab.research.google.com/notebooks/data_table.ipynb>data table notebook</a>'\n",
              "            + ' to learn more about interactive tables.';\n",
              "          element.innerHTML = '';\n",
              "          dataTable['output_type'] = 'display_data';\n",
              "          await google.colab.output.renderOutput(dataTable, element);\n",
              "          const docLink = document.createElement('div');\n",
              "          docLink.innerHTML = docLinkHtml;\n",
              "          element.appendChild(docLink);\n",
              "        }\n",
              "      </script>\n",
              "    </div>\n",
              "  </div>\n",
              "  "
            ]
          },
          "metadata": {},
          "execution_count": 38
        }
      ]
    },
    {
      "cell_type": "code",
      "source": [
        "b = []\n",
        "c = []\n",
        "for x in df2['song_id'].unique():\n",
        "    if x in df2[df2['user_id']==66345]['song_id'].unique():\n",
        "        b.append(x)\n",
        "    else:\n",
        "        c.append(x)"
      ],
      "metadata": {
        "id": "_HfzbP1JP7q4"
      },
      "id": "_HfzbP1JP7q4",
      "execution_count": 33,
      "outputs": []
    },
    {
      "cell_type": "code",
      "source": [
        "b"
      ],
      "metadata": {
        "colab": {
          "base_uri": "https://localhost:8080/"
        },
        "id": "m4htMypvQHoN",
        "outputId": "a6038936-c9a0-4ee4-a23b-7c95377cf18b"
      },
      "id": "m4htMypvQHoN",
      "execution_count": 34,
      "outputs": [
        {
          "output_type": "execute_result",
          "data": {
            "text/plain": [
              "[5076, 8178, 6095, 7562, 1050, 1998]"
            ]
          },
          "metadata": {},
          "execution_count": 34
        }
      ]
    },
    {
      "cell_type": "code",
      "source": [
        "c"
      ],
      "metadata": {
        "colab": {
          "base_uri": "https://localhost:8080/"
        },
        "id": "vSEy_YIqQInO",
        "outputId": "7977a671-da3a-4c6e-a5dd-b3d0b54cba0b"
      },
      "id": "vSEy_YIqQInO",
      "execution_count": 35,
      "outputs": [
        {
          "output_type": "execute_result",
          "data": {
            "text/plain": [
              "[2709,\n",
              " 7147,\n",
              " 320,\n",
              " 3398,\n",
              " 9384,\n",
              " 593,\n",
              " 2792,\n",
              " 1199,\n",
              " 7406,\n",
              " 874,\n",
              " 1310,\n",
              " 2212,\n",
              " 8867,\n",
              " 9534,\n",
              " 2471,\n",
              " 4160,\n",
              " 6348,\n",
              " 16,\n",
              " 7266,\n",
              " 980,\n",
              " 6840,\n",
              " 9173,\n",
              " 3525,\n",
              " 804,\n",
              " 6428,\n",
              " 9064,\n",
              " 4095,\n",
              " 4464,\n",
              " 8127,\n",
              " 1519,\n",
              " 1733,\n",
              " 5266,\n",
              " 7259,\n",
              " 3583,\n",
              " 8091,\n",
              " 8862,\n",
              " 9558,\n",
              " 9614,\n",
              " 108,\n",
              " 2706,\n",
              " 6882,\n",
              " 950,\n",
              " 6761,\n",
              " 8939,\n",
              " 378,\n",
              " 6249,\n",
              " 6689,\n",
              " 560,\n",
              " 9921,\n",
              " 8637,\n",
              " 4085,\n",
              " 2972,\n",
              " 2118,\n",
              " 6728,\n",
              " 3598,\n",
              " 2768,\n",
              " 5619,\n",
              " 2749,\n",
              " 7775,\n",
              " 2055,\n",
              " 3274,\n",
              " 267,\n",
              " 5278,\n",
              " 6408,\n",
              " 4289,\n",
              " 3483,\n",
              " 4689,\n",
              " 2934,\n",
              " 2241,\n",
              " 5486,\n",
              " 7662,\n",
              " 5518,\n",
              " 9936,\n",
              " 3080,\n",
              " 4477,\n",
              " 7228,\n",
              " 2464,\n",
              " 8259,\n",
              " 8164,\n",
              " 859,\n",
              " 8927,\n",
              " 9775,\n",
              " 45,\n",
              " 8392,\n",
              " 1540,\n",
              " 7794,\n",
              " 8648,\n",
              " 7012,\n",
              " 3726,\n",
              " 3727,\n",
              " 6077,\n",
              " 776,\n",
              " 7922,\n",
              " 9562,\n",
              " 4063,\n",
              " 3110,\n",
              " 8518,\n",
              " 6111,\n",
              " 6186,\n",
              " 8999,\n",
              " 8723,\n",
              " 315,\n",
              " 5959,\n",
              " 9348]"
            ]
          },
          "metadata": {},
          "execution_count": 35
        }
      ]
    },
    {
      "cell_type": "markdown",
      "id": "897ca9f4-7f88-49f0-a8e7-7e61080d281d",
      "metadata": {
        "id": "897ca9f4-7f88-49f0-a8e7-7e61080d281d"
      },
      "source": [
        "(3) Buatlah sistem rekomendasi collaborative filtering item-item. Hitung RMSE dari sistem rekomendasi yang dibuat. Buat sistem rekomendasi berupa fungsi kustom yang menerima 4 argumen: dataset, user id, jumlah lagu yang direkomendasikan, dan algoritma. Pastikan rekomendasi yang diberikan adalah lagu yang belum diberi rating oleh user. Print rekomendasi top 10 lagu untuk salah satu user."
      ]
    },
    {
      "cell_type": "code",
      "execution_count": 39,
      "id": "110ea6aa-a67a-4404-a009-097f98423efb",
      "metadata": {
        "id": "110ea6aa-a67a-4404-a009-097f98423efb"
      },
      "outputs": [],
      "source": [
        "param_grid = {'k': [30, 40],\n",
        "             'min_k': [6, 9],\n",
        "             'sim_options' : {'name': ['msd', 'pearson'],\n",
        "                             'item_based': [True]}}\n",
        "gscv = GridSearchCV(KNNBasic, param_grid, cv=4, measures = ['rmse'])"
      ]
    },
    {
      "cell_type": "code",
      "source": [
        "gscv.fit(data)"
      ],
      "metadata": {
        "colab": {
          "base_uri": "https://localhost:8080/"
        },
        "id": "0cVqNDJMQvxV",
        "outputId": "787ade64-cad1-4c11-da0b-505226879e42"
      },
      "id": "0cVqNDJMQvxV",
      "execution_count": 40,
      "outputs": [
        {
          "output_type": "stream",
          "name": "stdout",
          "text": [
            "Computing the msd similarity matrix...\n",
            "Done computing similarity matrix.\n",
            "Computing the msd similarity matrix...\n",
            "Done computing similarity matrix.\n",
            "Computing the msd similarity matrix...\n",
            "Done computing similarity matrix.\n",
            "Computing the msd similarity matrix...\n",
            "Done computing similarity matrix.\n",
            "Computing the pearson similarity matrix...\n",
            "Done computing similarity matrix.\n",
            "Computing the pearson similarity matrix...\n",
            "Done computing similarity matrix.\n",
            "Computing the pearson similarity matrix...\n",
            "Done computing similarity matrix.\n",
            "Computing the pearson similarity matrix...\n",
            "Done computing similarity matrix.\n",
            "Computing the msd similarity matrix...\n",
            "Done computing similarity matrix.\n",
            "Computing the msd similarity matrix...\n",
            "Done computing similarity matrix.\n",
            "Computing the msd similarity matrix...\n",
            "Done computing similarity matrix.\n",
            "Computing the msd similarity matrix...\n",
            "Done computing similarity matrix.\n",
            "Computing the pearson similarity matrix...\n",
            "Done computing similarity matrix.\n",
            "Computing the pearson similarity matrix...\n",
            "Done computing similarity matrix.\n",
            "Computing the pearson similarity matrix...\n",
            "Done computing similarity matrix.\n",
            "Computing the pearson similarity matrix...\n",
            "Done computing similarity matrix.\n",
            "Computing the msd similarity matrix...\n",
            "Done computing similarity matrix.\n",
            "Computing the msd similarity matrix...\n",
            "Done computing similarity matrix.\n",
            "Computing the msd similarity matrix...\n",
            "Done computing similarity matrix.\n",
            "Computing the msd similarity matrix...\n",
            "Done computing similarity matrix.\n",
            "Computing the pearson similarity matrix...\n",
            "Done computing similarity matrix.\n",
            "Computing the pearson similarity matrix...\n",
            "Done computing similarity matrix.\n",
            "Computing the pearson similarity matrix...\n",
            "Done computing similarity matrix.\n",
            "Computing the pearson similarity matrix...\n",
            "Done computing similarity matrix.\n",
            "Computing the msd similarity matrix...\n",
            "Done computing similarity matrix.\n",
            "Computing the msd similarity matrix...\n",
            "Done computing similarity matrix.\n",
            "Computing the msd similarity matrix...\n",
            "Done computing similarity matrix.\n",
            "Computing the msd similarity matrix...\n",
            "Done computing similarity matrix.\n",
            "Computing the pearson similarity matrix...\n",
            "Done computing similarity matrix.\n",
            "Computing the pearson similarity matrix...\n",
            "Done computing similarity matrix.\n",
            "Computing the pearson similarity matrix...\n",
            "Done computing similarity matrix.\n",
            "Computing the pearson similarity matrix...\n",
            "Done computing similarity matrix.\n"
          ]
        }
      ]
    },
    {
      "cell_type": "code",
      "source": [
        "gscv.best_score"
      ],
      "metadata": {
        "colab": {
          "base_uri": "https://localhost:8080/"
        },
        "id": "nrKICXqhQ0Ql",
        "outputId": "f351ef9e-181a-4d67-c802-bb9d0fe46103"
      },
      "id": "nrKICXqhQ0Ql",
      "execution_count": 41,
      "outputs": [
        {
          "output_type": "execute_result",
          "data": {
            "text/plain": [
              "{'rmse': 0.4708624448939511}"
            ]
          },
          "metadata": {},
          "execution_count": 41
        }
      ]
    },
    {
      "cell_type": "code",
      "source": [
        "gscv.best_params"
      ],
      "metadata": {
        "colab": {
          "base_uri": "https://localhost:8080/"
        },
        "id": "pc26QvwaQ4V6",
        "outputId": "577ff132-c083-43b2-eb7d-d63100a0a036"
      },
      "id": "pc26QvwaQ4V6",
      "execution_count": 42,
      "outputs": [
        {
          "output_type": "execute_result",
          "data": {
            "text/plain": [
              "{'rmse': {'k': 30,\n",
              "  'min_k': 9,\n",
              "  'sim_options': {'item_based': True, 'name': 'msd', 'user_based': True}}}"
            ]
          },
          "metadata": {},
          "execution_count": 42
        }
      ]
    },
    {
      "cell_type": "code",
      "source": [
        "knn_item = KNNBasic(**gscv.best_params)\n",
        "knn_item.fit(trainset)"
      ],
      "metadata": {
        "colab": {
          "base_uri": "https://localhost:8080/"
        },
        "id": "HDbeyxwJQ6s5",
        "outputId": "d1083da8-77ac-4827-d56b-de836f15f9da"
      },
      "id": "HDbeyxwJQ6s5",
      "execution_count": 43,
      "outputs": [
        {
          "output_type": "stream",
          "name": "stdout",
          "text": [
            "Computing the msd similarity matrix...\n",
            "Done computing similarity matrix.\n"
          ]
        },
        {
          "output_type": "execute_result",
          "data": {
            "text/plain": [
              "<surprise.prediction_algorithms.knns.KNNBasic at 0x7f4ba1ff7710>"
            ]
          },
          "metadata": {},
          "execution_count": 43
        }
      ]
    },
    {
      "cell_type": "code",
      "source": [
        "get_recom_user(df2, 66345, 10, knn_item)"
      ],
      "metadata": {
        "colab": {
          "base_uri": "https://localhost:8080/",
          "height": 363
        },
        "id": "0J6hb2SwRBKr",
        "outputId": "af92e14b-8050-450b-b6e0-0ffe1e6d62a9"
      },
      "id": "0J6hb2SwRBKr",
      "execution_count": 44,
      "outputs": [
        {
          "output_type": "execute_result",
          "data": {
            "text/plain": [
              "                                                movie  estimated_rating\n",
              "39                                   Gel (LP Version)          2.250000\n",
              "84                                       Love Is Here          2.000000\n",
              "63                                             Habana          2.000000\n",
              "22  Sing_ Sing_ Sing (Key-E-Premiere Performance P...          2.000000\n",
              "38                                  Hell On The Heart          2.000000\n",
              "86                                         Bar Tacuba          2.000000\n",
              "53                                      D.O.A. Part 2          1.782609\n",
              "87                    Hymne A L'Amour (Album Version)          1.666667\n",
              "28              Amazing Grace (1999 Digital Remaster)          1.500000\n",
              "25                                    OVO MI JE `KOLA          1.500000"
            ],
            "text/html": [
              "\n",
              "  <div id=\"df-3c43d006-a17c-4ba6-9c3e-c5ce73551ab0\">\n",
              "    <div class=\"colab-df-container\">\n",
              "      <div>\n",
              "<style scoped>\n",
              "    .dataframe tbody tr th:only-of-type {\n",
              "        vertical-align: middle;\n",
              "    }\n",
              "\n",
              "    .dataframe tbody tr th {\n",
              "        vertical-align: top;\n",
              "    }\n",
              "\n",
              "    .dataframe thead th {\n",
              "        text-align: right;\n",
              "    }\n",
              "</style>\n",
              "<table border=\"1\" class=\"dataframe\">\n",
              "  <thead>\n",
              "    <tr style=\"text-align: right;\">\n",
              "      <th></th>\n",
              "      <th>movie</th>\n",
              "      <th>estimated_rating</th>\n",
              "    </tr>\n",
              "  </thead>\n",
              "  <tbody>\n",
              "    <tr>\n",
              "      <th>39</th>\n",
              "      <td>Gel (LP Version)</td>\n",
              "      <td>2.250000</td>\n",
              "    </tr>\n",
              "    <tr>\n",
              "      <th>84</th>\n",
              "      <td>Love Is Here</td>\n",
              "      <td>2.000000</td>\n",
              "    </tr>\n",
              "    <tr>\n",
              "      <th>63</th>\n",
              "      <td>Habana</td>\n",
              "      <td>2.000000</td>\n",
              "    </tr>\n",
              "    <tr>\n",
              "      <th>22</th>\n",
              "      <td>Sing_ Sing_ Sing (Key-E-Premiere Performance P...</td>\n",
              "      <td>2.000000</td>\n",
              "    </tr>\n",
              "    <tr>\n",
              "      <th>38</th>\n",
              "      <td>Hell On The Heart</td>\n",
              "      <td>2.000000</td>\n",
              "    </tr>\n",
              "    <tr>\n",
              "      <th>86</th>\n",
              "      <td>Bar Tacuba</td>\n",
              "      <td>2.000000</td>\n",
              "    </tr>\n",
              "    <tr>\n",
              "      <th>53</th>\n",
              "      <td>D.O.A. Part 2</td>\n",
              "      <td>1.782609</td>\n",
              "    </tr>\n",
              "    <tr>\n",
              "      <th>87</th>\n",
              "      <td>Hymne A L'Amour (Album Version)</td>\n",
              "      <td>1.666667</td>\n",
              "    </tr>\n",
              "    <tr>\n",
              "      <th>28</th>\n",
              "      <td>Amazing Grace (1999 Digital Remaster)</td>\n",
              "      <td>1.500000</td>\n",
              "    </tr>\n",
              "    <tr>\n",
              "      <th>25</th>\n",
              "      <td>OVO MI JE `KOLA</td>\n",
              "      <td>1.500000</td>\n",
              "    </tr>\n",
              "  </tbody>\n",
              "</table>\n",
              "</div>\n",
              "      <button class=\"colab-df-convert\" onclick=\"convertToInteractive('df-3c43d006-a17c-4ba6-9c3e-c5ce73551ab0')\"\n",
              "              title=\"Convert this dataframe to an interactive table.\"\n",
              "              style=\"display:none;\">\n",
              "        \n",
              "  <svg xmlns=\"http://www.w3.org/2000/svg\" height=\"24px\"viewBox=\"0 0 24 24\"\n",
              "       width=\"24px\">\n",
              "    <path d=\"M0 0h24v24H0V0z\" fill=\"none\"/>\n",
              "    <path d=\"M18.56 5.44l.94 2.06.94-2.06 2.06-.94-2.06-.94-.94-2.06-.94 2.06-2.06.94zm-11 1L8.5 8.5l.94-2.06 2.06-.94-2.06-.94L8.5 2.5l-.94 2.06-2.06.94zm10 10l.94 2.06.94-2.06 2.06-.94-2.06-.94-.94-2.06-.94 2.06-2.06.94z\"/><path d=\"M17.41 7.96l-1.37-1.37c-.4-.4-.92-.59-1.43-.59-.52 0-1.04.2-1.43.59L10.3 9.45l-7.72 7.72c-.78.78-.78 2.05 0 2.83L4 21.41c.39.39.9.59 1.41.59.51 0 1.02-.2 1.41-.59l7.78-7.78 2.81-2.81c.8-.78.8-2.07 0-2.86zM5.41 20L4 18.59l7.72-7.72 1.47 1.35L5.41 20z\"/>\n",
              "  </svg>\n",
              "      </button>\n",
              "      \n",
              "  <style>\n",
              "    .colab-df-container {\n",
              "      display:flex;\n",
              "      flex-wrap:wrap;\n",
              "      gap: 12px;\n",
              "    }\n",
              "\n",
              "    .colab-df-convert {\n",
              "      background-color: #E8F0FE;\n",
              "      border: none;\n",
              "      border-radius: 50%;\n",
              "      cursor: pointer;\n",
              "      display: none;\n",
              "      fill: #1967D2;\n",
              "      height: 32px;\n",
              "      padding: 0 0 0 0;\n",
              "      width: 32px;\n",
              "    }\n",
              "\n",
              "    .colab-df-convert:hover {\n",
              "      background-color: #E2EBFA;\n",
              "      box-shadow: 0px 1px 2px rgba(60, 64, 67, 0.3), 0px 1px 3px 1px rgba(60, 64, 67, 0.15);\n",
              "      fill: #174EA6;\n",
              "    }\n",
              "\n",
              "    [theme=dark] .colab-df-convert {\n",
              "      background-color: #3B4455;\n",
              "      fill: #D2E3FC;\n",
              "    }\n",
              "\n",
              "    [theme=dark] .colab-df-convert:hover {\n",
              "      background-color: #434B5C;\n",
              "      box-shadow: 0px 1px 3px 1px rgba(0, 0, 0, 0.15);\n",
              "      filter: drop-shadow(0px 1px 2px rgba(0, 0, 0, 0.3));\n",
              "      fill: #FFFFFF;\n",
              "    }\n",
              "  </style>\n",
              "\n",
              "      <script>\n",
              "        const buttonEl =\n",
              "          document.querySelector('#df-3c43d006-a17c-4ba6-9c3e-c5ce73551ab0 button.colab-df-convert');\n",
              "        buttonEl.style.display =\n",
              "          google.colab.kernel.accessAllowed ? 'block' : 'none';\n",
              "\n",
              "        async function convertToInteractive(key) {\n",
              "          const element = document.querySelector('#df-3c43d006-a17c-4ba6-9c3e-c5ce73551ab0');\n",
              "          const dataTable =\n",
              "            await google.colab.kernel.invokeFunction('convertToInteractive',\n",
              "                                                     [key], {});\n",
              "          if (!dataTable) return;\n",
              "\n",
              "          const docLinkHtml = 'Like what you see? Visit the ' +\n",
              "            '<a target=\"_blank\" href=https://colab.research.google.com/notebooks/data_table.ipynb>data table notebook</a>'\n",
              "            + ' to learn more about interactive tables.';\n",
              "          element.innerHTML = '';\n",
              "          dataTable['output_type'] = 'display_data';\n",
              "          await google.colab.output.renderOutput(dataTable, element);\n",
              "          const docLink = document.createElement('div');\n",
              "          docLink.innerHTML = docLinkHtml;\n",
              "          element.appendChild(docLink);\n",
              "        }\n",
              "      </script>\n",
              "    </div>\n",
              "  </div>\n",
              "  "
            ]
          },
          "metadata": {},
          "execution_count": 44
        }
      ]
    },
    {
      "cell_type": "code",
      "source": [
        ""
      ],
      "metadata": {
        "id": "62Oc_AtuRBn8"
      },
      "id": "62Oc_AtuRBn8",
      "execution_count": null,
      "outputs": []
    }
  ],
  "metadata": {
    "kernelspec": {
      "display_name": "Python 3",
      "language": "python",
      "name": "python3"
    },
    "language_info": {
      "codemirror_mode": {
        "name": "ipython",
        "version": 3
      },
      "file_extension": ".py",
      "mimetype": "text/x-python",
      "name": "python",
      "nbconvert_exporter": "python",
      "pygments_lexer": "ipython3",
      "version": "3.8.7"
    },
    "colab": {
      "name": "Hanun Masitha - hoa 13 - recommendation system.ipynb",
      "provenance": [],
      "collapsed_sections": []
    }
  },
  "nbformat": 4,
  "nbformat_minor": 5
}