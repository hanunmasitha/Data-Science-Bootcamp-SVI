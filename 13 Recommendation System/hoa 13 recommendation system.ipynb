{
 "cells": [
  {
   "cell_type": "markdown",
   "id": "e11597f2-e1db-40ec-ae09-5765cf818eaa",
   "metadata": {},
   "source": [
    "Nama: Hanun Masitha Ramadhani"
   ]
  },
  {
   "cell_type": "code",
   "execution_count": 2,
   "id": "5719e710-0b88-4267-b0dc-d415cd6fd4d5",
   "metadata": {},
   "outputs": [
    {
     "data": {
      "text/html": [
       "<div>\n",
       "<style scoped>\n",
       "    .dataframe tbody tr th:only-of-type {\n",
       "        vertical-align: middle;\n",
       "    }\n",
       "\n",
       "    .dataframe tbody tr th {\n",
       "        vertical-align: top;\n",
       "    }\n",
       "\n",
       "    .dataframe thead th {\n",
       "        text-align: right;\n",
       "    }\n",
       "</style>\n",
       "<table border=\"1\" class=\"dataframe\">\n",
       "  <thead>\n",
       "    <tr style=\"text-align: right;\">\n",
       "      <th></th>\n",
       "      <th>song_id</th>\n",
       "      <th>title</th>\n",
       "      <th>artist_name</th>\n",
       "      <th>user_id</th>\n",
       "      <th>rating</th>\n",
       "    </tr>\n",
       "  </thead>\n",
       "  <tbody>\n",
       "    <tr>\n",
       "      <th>0</th>\n",
       "      <td>5076</td>\n",
       "      <td>Eli_ The Barrow Boy</td>\n",
       "      <td>The Decemberists</td>\n",
       "      <td>30266</td>\n",
       "      <td>1.0</td>\n",
       "    </tr>\n",
       "    <tr>\n",
       "      <th>1</th>\n",
       "      <td>5076</td>\n",
       "      <td>Eli_ The Barrow Boy</td>\n",
       "      <td>The Decemberists</td>\n",
       "      <td>66345</td>\n",
       "      <td>1.0</td>\n",
       "    </tr>\n",
       "    <tr>\n",
       "      <th>2</th>\n",
       "      <td>5076</td>\n",
       "      <td>Eli_ The Barrow Boy</td>\n",
       "      <td>The Decemberists</td>\n",
       "      <td>64781</td>\n",
       "      <td>1.0</td>\n",
       "    </tr>\n",
       "    <tr>\n",
       "      <th>3</th>\n",
       "      <td>5076</td>\n",
       "      <td>Eli_ The Barrow Boy</td>\n",
       "      <td>The Decemberists</td>\n",
       "      <td>16079</td>\n",
       "      <td>1.0</td>\n",
       "    </tr>\n",
       "    <tr>\n",
       "      <th>4</th>\n",
       "      <td>5076</td>\n",
       "      <td>Eli_ The Barrow Boy</td>\n",
       "      <td>The Decemberists</td>\n",
       "      <td>23987</td>\n",
       "      <td>1.0</td>\n",
       "    </tr>\n",
       "    <tr>\n",
       "      <th>...</th>\n",
       "      <td>...</td>\n",
       "      <td>...</td>\n",
       "      <td>...</td>\n",
       "      <td>...</td>\n",
       "      <td>...</td>\n",
       "    </tr>\n",
       "    <tr>\n",
       "      <th>86941</th>\n",
       "      <td>634</td>\n",
       "      <td>The Outer Banks</td>\n",
       "      <td>The Album Leaf</td>\n",
       "      <td>16523</td>\n",
       "      <td>1.0</td>\n",
       "    </tr>\n",
       "    <tr>\n",
       "      <th>86942</th>\n",
       "      <td>634</td>\n",
       "      <td>The Outer Banks</td>\n",
       "      <td>The Album Leaf</td>\n",
       "      <td>21989</td>\n",
       "      <td>1.0</td>\n",
       "    </tr>\n",
       "    <tr>\n",
       "      <th>86943</th>\n",
       "      <td>634</td>\n",
       "      <td>The Outer Banks</td>\n",
       "      <td>The Album Leaf</td>\n",
       "      <td>47074</td>\n",
       "      <td>1.0</td>\n",
       "    </tr>\n",
       "    <tr>\n",
       "      <th>86944</th>\n",
       "      <td>634</td>\n",
       "      <td>The Outer Banks</td>\n",
       "      <td>The Album Leaf</td>\n",
       "      <td>59085</td>\n",
       "      <td>1.0</td>\n",
       "    </tr>\n",
       "    <tr>\n",
       "      <th>86945</th>\n",
       "      <td>634</td>\n",
       "      <td>The Outer Banks</td>\n",
       "      <td>The Album Leaf</td>\n",
       "      <td>39616</td>\n",
       "      <td>1.0</td>\n",
       "    </tr>\n",
       "  </tbody>\n",
       "</table>\n",
       "<p>86946 rows × 5 columns</p>\n",
       "</div>"
      ],
      "text/plain": [
       "       song_id                title       artist_name  user_id  rating\n",
       "0         5076  Eli_ The Barrow Boy  The Decemberists    30266     1.0\n",
       "1         5076  Eli_ The Barrow Boy  The Decemberists    66345     1.0\n",
       "2         5076  Eli_ The Barrow Boy  The Decemberists    64781     1.0\n",
       "3         5076  Eli_ The Barrow Boy  The Decemberists    16079     1.0\n",
       "4         5076  Eli_ The Barrow Boy  The Decemberists    23987     1.0\n",
       "...        ...                  ...               ...      ...     ...\n",
       "86941      634      The Outer Banks    The Album Leaf    16523     1.0\n",
       "86942      634      The Outer Banks    The Album Leaf    21989     1.0\n",
       "86943      634      The Outer Banks    The Album Leaf    47074     1.0\n",
       "86944      634      The Outer Banks    The Album Leaf    59085     1.0\n",
       "86945      634      The Outer Banks    The Album Leaf    39616     1.0\n",
       "\n",
       "[86946 rows x 5 columns]"
      ]
     },
     "execution_count": 2,
     "metadata": {},
     "output_type": "execute_result"
    }
   ],
   "source": [
    "import pandas as pd\n",
    "df = pd.read_csv('song.csv')\n",
    "df"
   ]
  },
  {
   "cell_type": "code",
   "execution_count": 11,
   "id": "configured-remedy",
   "metadata": {},
   "outputs": [],
   "source": [
    "song_dict1 = {}\n",
    "song_dict2 = {}\n",
    "for x, y in zip(df['song_id'], df['title']):\n",
    "    if x not in song_dict1.keys():\n",
    "        song_dict1[x] = y\n",
    "        song_dict2[y] = x"
   ]
  },
  {
   "cell_type": "markdown",
   "id": "ec493c58-5054-4864-a168-4e4850f03472",
   "metadata": {},
   "source": [
    "(1) Buatlah sistem rekomendasi popularity-based berupa fungsi kustom yang menerima 3 argumen: dataset, jumlah lagu yang direkomendasikan, dan minimal jumlah rating lagu. Print rekomendasi top 10 lagu."
   ]
  },
  {
   "cell_type": "code",
   "execution_count": 5,
   "id": "9b9835ce-bd7a-4406-bfe9-36793870ac87",
   "metadata": {},
   "outputs": [
    {
     "data": {
      "text/html": [
       "<div>\n",
       "<style scoped>\n",
       "    .dataframe tbody tr th:only-of-type {\n",
       "        vertical-align: middle;\n",
       "    }\n",
       "\n",
       "    .dataframe tbody tr th {\n",
       "        vertical-align: top;\n",
       "    }\n",
       "\n",
       "    .dataframe thead th {\n",
       "        text-align: right;\n",
       "    }\n",
       "</style>\n",
       "<table border=\"1\" class=\"dataframe\">\n",
       "  <thead>\n",
       "    <tr style=\"text-align: right;\">\n",
       "      <th></th>\n",
       "      <th>count</th>\n",
       "      <th>rating</th>\n",
       "    </tr>\n",
       "    <tr>\n",
       "      <th>song_id</th>\n",
       "      <th></th>\n",
       "      <th></th>\n",
       "    </tr>\n",
       "  </thead>\n",
       "  <tbody>\n",
       "    <tr>\n",
       "      <th>16</th>\n",
       "      <td>667</td>\n",
       "      <td>1.161919</td>\n",
       "    </tr>\n",
       "    <tr>\n",
       "      <th>28</th>\n",
       "      <td>95</td>\n",
       "      <td>1.273684</td>\n",
       "    </tr>\n",
       "    <tr>\n",
       "      <th>44</th>\n",
       "      <td>74</td>\n",
       "      <td>1.000000</td>\n",
       "    </tr>\n",
       "    <tr>\n",
       "      <th>45</th>\n",
       "      <td>113</td>\n",
       "      <td>1.035398</td>\n",
       "    </tr>\n",
       "    <tr>\n",
       "      <th>98</th>\n",
       "      <td>108</td>\n",
       "      <td>1.074074</td>\n",
       "    </tr>\n",
       "    <tr>\n",
       "      <th>...</th>\n",
       "      <td>...</td>\n",
       "      <td>...</td>\n",
       "    </tr>\n",
       "    <tr>\n",
       "      <th>9873</th>\n",
       "      <td>58</td>\n",
       "      <td>1.224138</td>\n",
       "    </tr>\n",
       "    <tr>\n",
       "      <th>9904</th>\n",
       "      <td>161</td>\n",
       "      <td>1.248447</td>\n",
       "    </tr>\n",
       "    <tr>\n",
       "      <th>9921</th>\n",
       "      <td>97</td>\n",
       "      <td>1.134021</td>\n",
       "    </tr>\n",
       "    <tr>\n",
       "      <th>9936</th>\n",
       "      <td>235</td>\n",
       "      <td>1.093617</td>\n",
       "    </tr>\n",
       "    <tr>\n",
       "      <th>9956</th>\n",
       "      <td>86</td>\n",
       "      <td>1.162791</td>\n",
       "    </tr>\n",
       "  </tbody>\n",
       "</table>\n",
       "<p>470 rows × 2 columns</p>\n",
       "</div>"
      ],
      "text/plain": [
       "         count    rating\n",
       "song_id                 \n",
       "16         667  1.161919\n",
       "28          95  1.273684\n",
       "44          74  1.000000\n",
       "45         113  1.035398\n",
       "98         108  1.074074\n",
       "...        ...       ...\n",
       "9873        58  1.224138\n",
       "9904       161  1.248447\n",
       "9921        97  1.134021\n",
       "9936       235  1.093617\n",
       "9956        86  1.162791\n",
       "\n",
       "[470 rows x 2 columns]"
      ]
     },
     "execution_count": 5,
     "metadata": {},
     "output_type": "execute_result"
    }
   ],
   "source": [
    "popular = pd.DataFrame({'count':df.groupby('song_id').count()['user_id'],\n",
    "                       'rating':df.groupby('song_id').mean()['rating']})\n",
    "popular"
   ]
  },
  {
   "cell_type": "code",
   "execution_count": 6,
   "id": "narrow-collective",
   "metadata": {},
   "outputs": [
    {
     "data": {
      "text/plain": [
       "1.8330341113105924"
      ]
     },
     "execution_count": 6,
     "metadata": {},
     "output_type": "execute_result"
    }
   ],
   "source": [
    "popular['rating'].max()"
   ]
  },
  {
   "cell_type": "code",
   "execution_count": 7,
   "id": "round-violation",
   "metadata": {},
   "outputs": [
    {
     "data": {
      "text/plain": [
       "1.0"
      ]
     },
     "execution_count": 7,
     "metadata": {},
     "output_type": "execute_result"
    }
   ],
   "source": [
    "popular['rating'].min()"
   ]
  },
  {
   "cell_type": "code",
   "execution_count": 12,
   "id": "computational-friendship",
   "metadata": {},
   "outputs": [],
   "source": [
    "def popular_recom(dataset, min_rating, k):\n",
    "    a = []\n",
    "    popular2 = dataset[dataset['rating']>=min_rating].sort_values('rating', ascending=False)\n",
    "    for x in popular2.index[:k]:\n",
    "        a.append(song_dict1[x])\n",
    "    return a"
   ]
  },
  {
   "cell_type": "code",
   "execution_count": 13,
   "id": "infinite-leader",
   "metadata": {},
   "outputs": [
    {
     "data": {
      "text/plain": [
       "['Victoria (LP Version)',\n",
       " 'Chapel Of Ghouls (Live)',\n",
       " 'The Alliance Of Hellhoundz',\n",
       " 'Disconnect_ Disconnect',\n",
       " 'OVO MI JE `KOLA',\n",
       " 'Romanticótico',\n",
       " 'Collecting Skylines',\n",
       " 'Walk Through Hell (featuring Max Bemis Acoustic Exclusive)',\n",
       " 'Ghost Of Yesterday (2001 Digital Remaster)',\n",
       " 'Here I Am To Worship (Here I Am To Worship Album Version)']"
      ]
     },
     "execution_count": 13,
     "metadata": {},
     "output_type": "execute_result"
    }
   ],
   "source": [
    "popular_recom(popular, 1.5, 10)"
   ]
  },
  {
   "cell_type": "markdown",
   "id": "1481a178-4294-4154-8fb1-97546aa60d91",
   "metadata": {},
   "source": [
    "(2) Buatlah sistem rekomendasi collaborative filtering user-user. Hitung RMSE dari sistem rekomendasi yang dibuat. Buat sistem rekomendasi berupa fungsi kustom yang menerima 4 argumen: dataset, user id, jumlah lagu yang direkomendasikan, dan algoritma. Pastikan rekomendasi yang diberikan adalah lagu yang belum diberi rating oleh user. Print rekomendasi top 10 lagu untuk salah satu user."
   ]
  },
  {
   "cell_type": "code",
   "execution_count": 14,
   "id": "2577747f-cbb3-4b56-8fbb-2796f90a2f62",
   "metadata": {},
   "outputs": [
    {
     "ename": "ModuleNotFoundError",
     "evalue": "No module named 'surprise'",
     "output_type": "error",
     "traceback": [
      "\u001b[1;31m---------------------------------------------------------------------------\u001b[0m",
      "\u001b[1;31mModuleNotFoundError\u001b[0m                       Traceback (most recent call last)",
      "\u001b[1;32m<ipython-input-14-7ab950f6166a>\u001b[0m in \u001b[0;36m<module>\u001b[1;34m\u001b[0m\n\u001b[1;32m----> 1\u001b[1;33m \u001b[1;32mfrom\u001b[0m \u001b[0msurprise\u001b[0m \u001b[1;32mimport\u001b[0m \u001b[0mKNNBasic\u001b[0m\u001b[1;33m,\u001b[0m \u001b[0mDataset\u001b[0m\u001b[1;33m,\u001b[0m \u001b[0mReader\u001b[0m\u001b[1;33m,\u001b[0m \u001b[0maccuracy\u001b[0m\u001b[1;33m\u001b[0m\u001b[1;33m\u001b[0m\u001b[0m\n\u001b[0m\u001b[0;32m      2\u001b[0m \u001b[1;32mfrom\u001b[0m \u001b[0msurprise\u001b[0m\u001b[1;33m.\u001b[0m\u001b[0mmodel_selection\u001b[0m \u001b[1;32mimport\u001b[0m \u001b[0mtrain_test_split\u001b[0m\u001b[1;33m,\u001b[0m \u001b[0mGridSearchCV\u001b[0m\u001b[1;33m\u001b[0m\u001b[1;33m\u001b[0m\u001b[0m\n",
      "\u001b[1;31mModuleNotFoundError\u001b[0m: No module named 'surprise'"
     ]
    }
   ],
   "source": [
    "from surprise import KNNBasic, Dataset, Reader, accuracy\n",
    "from surprise.model_selection import train_test_split, GridSearchCV"
   ]
  },
  {
   "cell_type": "markdown",
   "id": "897ca9f4-7f88-49f0-a8e7-7e61080d281d",
   "metadata": {},
   "source": [
    "(3) Buatlah sistem rekomendasi collaborative filtering item-item. Hitung RMSE dari sistem rekomendasi yang dibuat. Buat sistem rekomendasi berupa fungsi kustom yang menerima 4 argumen: dataset, user id, jumlah lagu yang direkomendasikan, dan algoritma. Pastikan rekomendasi yang diberikan adalah lagu yang belum diberi rating oleh user. Print rekomendasi top 10 lagu untuk salah satu user."
   ]
  },
  {
   "cell_type": "code",
   "execution_count": null,
   "id": "110ea6aa-a67a-4404-a009-097f98423efb",
   "metadata": {},
   "outputs": [],
   "source": []
  }
 ],
 "metadata": {
  "kernelspec": {
   "display_name": "Python 3",
   "language": "python",
   "name": "python3"
  },
  "language_info": {
   "codemirror_mode": {
    "name": "ipython",
    "version": 3
   },
   "file_extension": ".py",
   "mimetype": "text/x-python",
   "name": "python",
   "nbconvert_exporter": "python",
   "pygments_lexer": "ipython3",
   "version": "3.8.7"
  }
 },
 "nbformat": 4,
 "nbformat_minor": 5
}
