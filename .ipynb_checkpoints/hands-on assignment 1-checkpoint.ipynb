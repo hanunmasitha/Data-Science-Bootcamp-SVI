{
 "cells": [
  {
   "cell_type": "markdown",
   "id": "b63ca9f9-d504-474c-8595-6eb200d96852",
   "metadata": {},
   "source": [
    "# HANDS-ON ASSIGNMENT 1: BASIC PYTHON"
   ]
  },
  {
   "cell_type": "markdown",
   "id": "236c5605-3030-42a7-a14f-88d232022ba8",
   "metadata": {},
   "source": [
    "Nama:"
   ]
  },
  {
   "cell_type": "code",
   "execution_count": 1,
   "id": "28eb1721-83e6-4ab4-8aad-57e4a6aa33ff",
   "metadata": {},
   "outputs": [
    {
     "name": "stdout",
     "output_type": "stream",
     "text": [
      "Hanun Masitha Ramadhani\n"
     ]
    }
   ],
   "source": [
    "print(\"Hanun Masitha Ramadhani\")"
   ]
  },
  {
   "cell_type": "markdown",
   "id": "69be6340-dfb2-4f29-8897-f84df9b5911a",
   "metadata": {},
   "source": [
    "Email:"
   ]
  },
  {
   "cell_type": "code",
   "execution_count": 2,
   "id": "c665b563-42ae-4178-9be9-cdd873b7b445",
   "metadata": {},
   "outputs": [
    {
     "name": "stdout",
     "output_type": "stream",
     "text": [
      "hanun.ramadhani29@gmail.com\n"
     ]
    }
   ],
   "source": [
    "print(\"hanun.ramadhani29@gmail.com\")"
   ]
  },
  {
   "cell_type": "markdown",
   "id": "33cf2c60-f79f-4cda-a5b9-f3a96fb24d82",
   "metadata": {
    "tags": []
   },
   "source": [
    "1. Buat 4 variabel dengan 4 tipa data yang berbeda: float, integer, string, dan boolean. Print masing-masing variabel beserta tipenya"
   ]
  },
  {
   "cell_type": "code",
   "execution_count": 4,
   "id": "ad12f7c7-2de3-4baa-a76e-11cb36941fa8",
   "metadata": {},
   "outputs": [
    {
     "name": "stdout",
     "output_type": "stream",
     "text": [
      "<class 'str'>\n",
      "<class 'int'>\n",
      "<class 'float'>\n",
      "<class 'bool'>\n"
     ]
    }
   ],
   "source": [
    "nama = \"hanun\"\n",
    "umur = 23\n",
    "tinggi = 160.5\n",
    "mahasiswa = True\n",
    "\n",
    "print(type(nama))\n",
    "print(type(umur))\n",
    "print(type(tinggi))\n",
    "print(type(mahasiswa))"
   ]
  },
  {
   "cell_type": "markdown",
   "id": "7bd9b0e7-16b8-4911-8523-1105950f7264",
   "metadata": {},
   "source": [
    "2. Buat variabel yang mengandung list berisi 4 elemen (bebas). Tambahkan elemen ke lima. Ubah elemen ke 3. Hapus elemen ke 2. Print hasil akhirnya."
   ]
  },
  {
   "cell_type": "code",
   "execution_count": null,
   "id": "b034a33a-d9ae-4352-8ed5-59e86f1f6d10",
   "metadata": {},
   "outputs": [],
   "source": []
  },
  {
   "cell_type": "markdown",
   "id": "700d26ca-9311-43e8-954b-db1d87022ab7",
   "metadata": {},
   "source": [
    "3. Buat variabel yang mengandung dictionary berisi 4 pasangan key-value (bebas). Tambahkan pasangan ke lima. Ubah value pada key ke-3. Hapus pasangan ke 2. Print hasil akhirnya."
   ]
  },
  {
   "cell_type": "code",
   "execution_count": null,
   "id": "153e73d6-686f-4ee5-a61e-33f60540e35c",
   "metadata": {},
   "outputs": [],
   "source": []
  },
  {
   "cell_type": "markdown",
   "id": "a9d1a5ea-1e2f-41e1-9855-21663990429f",
   "metadata": {},
   "source": [
    "4. Buat 2 array x dan y, masing-masing memiliki 10 bilangan bulat yang di-generate menggunakan fungsi number generator dari library numpy. Buat scatter plot dengan menggunakan array x sebagai nilai axis x dan array y sebagai nilai axis y."
   ]
  },
  {
   "cell_type": "code",
   "execution_count": null,
   "id": "3b519a95-6ef1-42c9-8601-fe7bdf6815f4",
   "metadata": {},
   "outputs": [],
   "source": []
  },
  {
   "cell_type": "markdown",
   "id": "52c52a09-9d90-44e3-b445-58e9ea3a8985",
   "metadata": {},
   "source": [
    "5. Import hoa1.csv sebagai dataframe. Buat scatter plot dengan data kolom 'YearsAtCompany' sebagai data axis x dan data kolom 'MonthlyIncome' sebagai data axis y."
   ]
  },
  {
   "cell_type": "code",
   "execution_count": null,
   "id": "14a1b47c-66be-4c8c-943f-434982bd12f0",
   "metadata": {},
   "outputs": [],
   "source": []
  }
 ],
 "metadata": {
  "kernelspec": {
   "display_name": "Python 3",
   "language": "python",
   "name": "python3"
  },
  "language_info": {
   "codemirror_mode": {
    "name": "ipython",
    "version": 3
   },
   "file_extension": ".py",
   "mimetype": "text/x-python",
   "name": "python",
   "nbconvert_exporter": "python",
   "pygments_lexer": "ipython3",
   "version": "3.8.7"
  }
 },
 "nbformat": 4,
 "nbformat_minor": 5
}
