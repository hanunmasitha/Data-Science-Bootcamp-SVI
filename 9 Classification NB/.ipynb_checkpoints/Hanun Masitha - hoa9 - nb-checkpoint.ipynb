{
 "cells": [
  {
   "cell_type": "markdown",
   "id": "3802c662-f374-439c-b921-c22b1efb7842",
   "metadata": {},
   "source": [
    "Nama:"
   ]
  },
  {
   "cell_type": "code",
   "execution_count": 1,
   "id": "7ec09fbd-ab47-4655-917f-26edd95847ca",
   "metadata": {},
   "outputs": [
    {
     "name": "stdout",
     "output_type": "stream",
     "text": [
      "Nama : Hanun Masitha Ramadhani\n"
     ]
    }
   ],
   "source": [
    "print(\"Nama : Hanun Masitha Ramadhani\")"
   ]
  },
  {
   "cell_type": "markdown",
   "id": "a2cc4bc0-a6a7-451e-82d5-c1917c64ca3e",
   "metadata": {},
   "source": [
    "(1) Import dataset spam sms. Jadikan kolom 'v1' menjadi kolom target, dengan ham = 0, spam = 1."
   ]
  },
  {
   "cell_type": "code",
   "execution_count": null,
   "id": "cc9a2016-618b-466b-862a-b656e661cd3d",
   "metadata": {},
   "outputs": [],
   "source": [
    "import pandas as pd\n",
    "df_sm = pd.read_csv('water_potability.csv')\n",
    "df_water"
   ]
  },
  {
   "cell_type": "markdown",
   "id": "52a527be-b7c6-4bb2-b6e8-b47af93a0931",
   "metadata": {},
   "source": [
    "(2) Periksa adanya missing value pada dataset, dan lakukan dropna apabila sedikit jumlahnya."
   ]
  },
  {
   "cell_type": "code",
   "execution_count": null,
   "id": "8279592e-3027-4925-b0eb-637efc543d49",
   "metadata": {},
   "outputs": [],
   "source": []
  },
  {
   "cell_type": "markdown",
   "id": "8a113c21-afad-4e5a-9b4e-23c0fd9a0d52",
   "metadata": {},
   "source": [
    "(3) Lakukan train test split, test:test = 4:1, stratify = y."
   ]
  },
  {
   "cell_type": "code",
   "execution_count": null,
   "id": "f3b643f7-f0fc-4d07-a2da-e6be880aad64",
   "metadata": {},
   "outputs": [],
   "source": []
  },
  {
   "cell_type": "markdown",
   "id": "44e75317-aeca-475d-b8c3-2ec47f472b6c",
   "metadata": {},
   "source": [
    "(4) Lakukan cross-validation dengan pipeline dengan step: countvectorizer dan multinomialnb untuk menentukan nilai optimal untuk hyperparameter max_df dan max_features untuk countvectorizer; serta class_prior untuk multinomialnb. "
   ]
  },
  {
   "cell_type": "code",
   "execution_count": null,
   "id": "5ccab4fa-a4c5-46eb-ac92-fde7e7770a5b",
   "metadata": {},
   "outputs": [],
   "source": []
  },
  {
   "cell_type": "markdown",
   "id": "b10007fb-d6dd-47ae-8726-d08318d68760",
   "metadata": {},
   "source": [
    "(5) Print classification report untuk trainset dan testset (default vs optimized). Apakah optimisasi meningkatkan performansi dari model?"
   ]
  },
  {
   "cell_type": "code",
   "execution_count": null,
   "id": "26ca8c0a-ab79-43b8-863f-fb1f020ff830",
   "metadata": {},
   "outputs": [],
   "source": []
  }
 ],
 "metadata": {
  "kernelspec": {
   "display_name": "Python 3",
   "language": "python",
   "name": "python3"
  },
  "language_info": {
   "codemirror_mode": {
    "name": "ipython",
    "version": 3
   },
   "file_extension": ".py",
   "mimetype": "text/x-python",
   "name": "python",
   "nbconvert_exporter": "python",
   "pygments_lexer": "ipython3",
   "version": "3.8.7"
  }
 },
 "nbformat": 4,
 "nbformat_minor": 5
}
