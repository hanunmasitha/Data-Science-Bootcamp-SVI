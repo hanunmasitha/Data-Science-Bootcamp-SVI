{
 "cells": [
  {
   "cell_type": "markdown",
   "id": "3802c662-f374-439c-b921-c22b1efb7842",
   "metadata": {},
   "source": [
    "Nama:"
   ]
  },
  {
   "cell_type": "code",
   "execution_count": 1,
   "id": "7ec09fbd-ab47-4655-917f-26edd95847ca",
   "metadata": {},
   "outputs": [
    {
     "name": "stdout",
     "output_type": "stream",
     "text": [
      "Nama : Hanun Masitha Ramadhani\n"
     ]
    }
   ],
   "source": [
    "print(\"Nama : Hanun Masitha Ramadhani\")"
   ]
  },
  {
   "cell_type": "markdown",
   "id": "a2cc4bc0-a6a7-451e-82d5-c1917c64ca3e",
   "metadata": {},
   "source": [
    "(1) Import dataset spam sms. Jadikan kolom 'v1' menjadi kolom target, dengan ham = 0, spam = 1."
   ]
  },
  {
   "cell_type": "code",
   "execution_count": 75,
   "id": "cc9a2016-618b-466b-862a-b656e661cd3d",
   "metadata": {},
   "outputs": [
    {
     "data": {
      "text/html": [
       "<div>\n",
       "<style scoped>\n",
       "    .dataframe tbody tr th:only-of-type {\n",
       "        vertical-align: middle;\n",
       "    }\n",
       "\n",
       "    .dataframe tbody tr th {\n",
       "        vertical-align: top;\n",
       "    }\n",
       "\n",
       "    .dataframe thead th {\n",
       "        text-align: right;\n",
       "    }\n",
       "</style>\n",
       "<table border=\"1\" class=\"dataframe\">\n",
       "  <thead>\n",
       "    <tr style=\"text-align: right;\">\n",
       "      <th></th>\n",
       "      <th>v1</th>\n",
       "      <th>v2</th>\n",
       "    </tr>\n",
       "  </thead>\n",
       "  <tbody>\n",
       "    <tr>\n",
       "      <th>0</th>\n",
       "      <td>ham</td>\n",
       "      <td>Go until jurong point, crazy.. Available only ...</td>\n",
       "    </tr>\n",
       "    <tr>\n",
       "      <th>1</th>\n",
       "      <td>ham</td>\n",
       "      <td>Ok lar... Joking wif u oni...</td>\n",
       "    </tr>\n",
       "    <tr>\n",
       "      <th>2</th>\n",
       "      <td>spam</td>\n",
       "      <td>Free entry in 2 a wkly comp to win FA Cup fina...</td>\n",
       "    </tr>\n",
       "    <tr>\n",
       "      <th>3</th>\n",
       "      <td>ham</td>\n",
       "      <td>U dun say so early hor... U c already then say...</td>\n",
       "    </tr>\n",
       "    <tr>\n",
       "      <th>4</th>\n",
       "      <td>ham</td>\n",
       "      <td>Nah I don't think he goes to usf, he lives aro...</td>\n",
       "    </tr>\n",
       "    <tr>\n",
       "      <th>...</th>\n",
       "      <td>...</td>\n",
       "      <td>...</td>\n",
       "    </tr>\n",
       "    <tr>\n",
       "      <th>5567</th>\n",
       "      <td>spam</td>\n",
       "      <td>This is the 2nd time we have tried 2 contact u...</td>\n",
       "    </tr>\n",
       "    <tr>\n",
       "      <th>5568</th>\n",
       "      <td>ham</td>\n",
       "      <td>Will Ì_ b going to esplanade fr home?</td>\n",
       "    </tr>\n",
       "    <tr>\n",
       "      <th>5569</th>\n",
       "      <td>ham</td>\n",
       "      <td>Pity, * was in mood for that. So...any other s...</td>\n",
       "    </tr>\n",
       "    <tr>\n",
       "      <th>5570</th>\n",
       "      <td>ham</td>\n",
       "      <td>The guy did some bitching but I acted like i'd...</td>\n",
       "    </tr>\n",
       "    <tr>\n",
       "      <th>5571</th>\n",
       "      <td>ham</td>\n",
       "      <td>Rofl. Its true to its name</td>\n",
       "    </tr>\n",
       "  </tbody>\n",
       "</table>\n",
       "<p>5572 rows × 2 columns</p>\n",
       "</div>"
      ],
      "text/plain": [
       "        v1                                                 v2\n",
       "0      ham  Go until jurong point, crazy.. Available only ...\n",
       "1      ham                      Ok lar... Joking wif u oni...\n",
       "2     spam  Free entry in 2 a wkly comp to win FA Cup fina...\n",
       "3      ham  U dun say so early hor... U c already then say...\n",
       "4      ham  Nah I don't think he goes to usf, he lives aro...\n",
       "...    ...                                                ...\n",
       "5567  spam  This is the 2nd time we have tried 2 contact u...\n",
       "5568   ham              Will Ì_ b going to esplanade fr home?\n",
       "5569   ham  Pity, * was in mood for that. So...any other s...\n",
       "5570   ham  The guy did some bitching but I acted like i'd...\n",
       "5571   ham                         Rofl. Its true to its name\n",
       "\n",
       "[5572 rows x 2 columns]"
      ]
     },
     "execution_count": 75,
     "metadata": {},
     "output_type": "execute_result"
    }
   ],
   "source": [
    "import pandas as pd\n",
    "df_sms = pd.read_csv('sms_spam_new.csv')\n",
    "df_sms"
   ]
  },
  {
   "cell_type": "code",
   "execution_count": 94,
   "id": "hazardous-metallic",
   "metadata": {},
   "outputs": [],
   "source": [
    "y = df_sms['v1']\n",
    "x = df_sms['v2']"
   ]
  },
  {
   "cell_type": "code",
   "execution_count": null,
   "id": "internal-instrument",
   "metadata": {},
   "outputs": [],
   "source": []
  },
  {
   "cell_type": "code",
   "execution_count": 95,
   "id": "rocky-sandwich",
   "metadata": {},
   "outputs": [],
   "source": [
    "y = y.map({'ham':0, 'spam':1})"
   ]
  },
  {
   "cell_type": "code",
   "execution_count": 96,
   "id": "informational-reception",
   "metadata": {},
   "outputs": [
    {
     "data": {
      "text/plain": [
       "0    4825\n",
       "1     747\n",
       "Name: v1, dtype: int64"
      ]
     },
     "execution_count": 96,
     "metadata": {},
     "output_type": "execute_result"
    }
   ],
   "source": [
    "y.value_counts()"
   ]
  },
  {
   "cell_type": "markdown",
   "id": "52a527be-b7c6-4bb2-b6e8-b47af93a0931",
   "metadata": {},
   "source": [
    "(2) Periksa adanya missing value pada dataset, dan lakukan dropna apabila sedikit jumlahnya."
   ]
  },
  {
   "cell_type": "code",
   "execution_count": 99,
   "id": "8279592e-3027-4925-b0eb-637efc543d49",
   "metadata": {},
   "outputs": [
    {
     "data": {
      "text/html": [
       "<div>\n",
       "<style scoped>\n",
       "    .dataframe tbody tr th:only-of-type {\n",
       "        vertical-align: middle;\n",
       "    }\n",
       "\n",
       "    .dataframe tbody tr th {\n",
       "        vertical-align: top;\n",
       "    }\n",
       "\n",
       "    .dataframe thead th {\n",
       "        text-align: right;\n",
       "    }\n",
       "</style>\n",
       "<table border=\"1\" class=\"dataframe\">\n",
       "  <thead>\n",
       "    <tr style=\"text-align: right;\">\n",
       "      <th></th>\n",
       "      <th>kolom</th>\n",
       "      <th>missing</th>\n",
       "      <th>persen_missing</th>\n",
       "    </tr>\n",
       "  </thead>\n",
       "  <tbody>\n",
       "    <tr>\n",
       "      <th>0</th>\n",
       "      <td>v1</td>\n",
       "      <td>0</td>\n",
       "      <td>0.0</td>\n",
       "    </tr>\n",
       "    <tr>\n",
       "      <th>1</th>\n",
       "      <td>v2</td>\n",
       "      <td>0</td>\n",
       "      <td>0.0</td>\n",
       "    </tr>\n",
       "  </tbody>\n",
       "</table>\n",
       "</div>"
      ],
      "text/plain": [
       "  kolom  missing  persen_missing\n",
       "0    v1        0             0.0\n",
       "1    v2        0             0.0"
      ]
     },
     "execution_count": 99,
     "metadata": {},
     "output_type": "execute_result"
    }
   ],
   "source": [
    "missing = []\n",
    "persen = []\n",
    "\n",
    "for i in df_sms.columns:\n",
    "    missing.append(df_sms[i].isnull().sum())\n",
    "    persen.append(df_sms[i].isnull().sum()/len(df_sms[i])*100)\n",
    "\n",
    "proporsi_hilang = pd.DataFrame({\n",
    "        'kolom' : df_sms.columns,\n",
    "        'missing' : missing,\n",
    "        'persen_missing' : persen\n",
    "})\n",
    "    \n",
    "proporsi_hilang"
   ]
  },
  {
   "cell_type": "markdown",
   "id": "8a113c21-afad-4e5a-9b4e-23c0fd9a0d52",
   "metadata": {},
   "source": [
    "(3) Lakukan train test split, test:test = 4:1, stratify = y."
   ]
  },
  {
   "cell_type": "code",
   "execution_count": 100,
   "id": "f3b643f7-f0fc-4d07-a2da-e6be880aad64",
   "metadata": {},
   "outputs": [
    {
     "name": "stdout",
     "output_type": "stream",
     "text": [
      "Jumlah Data Train : 4457\n",
      "Jumlah Data Test : 1115\n"
     ]
    }
   ],
   "source": [
    "# Data Split\n",
    "from sklearn.model_selection import train_test_split\n",
    "\n",
    "X_train, X_test, y_train, y_test = train_test_split(\n",
    "    x, y, test_size=0.2\n",
    ")\n",
    "\n",
    "print(\"Jumlah Data Train : {0}\".format(len(y_train)))\n",
    "print(\"Jumlah Data Test : {0}\".format(len(X_test)))"
   ]
  },
  {
   "cell_type": "code",
   "execution_count": 101,
   "id": "sound-initial",
   "metadata": {},
   "outputs": [
    {
     "data": {
      "text/plain": [
       "(4457,)"
      ]
     },
     "execution_count": 101,
     "metadata": {},
     "output_type": "execute_result"
    }
   ],
   "source": [
    "y_train.shape"
   ]
  },
  {
   "cell_type": "markdown",
   "id": "44e75317-aeca-475d-b8c3-2ec47f472b6c",
   "metadata": {},
   "source": [
    "(4) Lakukan cross-validation dengan pipeline dengan step: countvectorizer dan multinomialnb untuk menentukan nilai optimal untuk hyperparameter max_df dan max_features untuk countvectorizer; serta class_prior untuk multinomialnb. "
   ]
  },
  {
   "cell_type": "code",
   "execution_count": 102,
   "id": "incorporate-stuart",
   "metadata": {},
   "outputs": [],
   "source": [
    "import warnings\n",
    "warnings.filterwarnings(\"ignore\")"
   ]
  },
  {
   "cell_type": "code",
   "execution_count": 103,
   "id": "5ccab4fa-a4c5-46eb-ac92-fde7e7770a5b",
   "metadata": {},
   "outputs": [],
   "source": [
    "from sklearn.model_selection import GridSearchCV\n",
    "from sklearn.feature_extraction.text import CountVectorizer\n",
    "from sklearn.pipeline import make_pipeline\n",
    "from sklearn.naive_bayes import MultinomialNB\n",
    "\n",
    "param_grid = {'countvectorizer__max_features':[1000,2000,10000], \n",
    "              'multinomialnb__class_prior':[[0.5,0.1],[0.5,0.07]]}\n",
    "\n",
    "pipeline = make_pipeline(CountVectorizer(stop_words='english'), \n",
    "                             MultinomialNB())\n",
    "gscv = GridSearchCV(pipeline, param_grid)\n",
    "gscv.fit(X_train, y_train)\n",
    "best_param = gscv.best_params_"
   ]
  },
  {
   "cell_type": "code",
   "execution_count": 104,
   "id": "proved-collection",
   "metadata": {},
   "outputs": [
    {
     "data": {
      "text/plain": [
       "{'countvectorizer__max_features': 10000,\n",
       " 'multinomialnb__class_prior': [0.5, 0.07]}"
      ]
     },
     "execution_count": 104,
     "metadata": {},
     "output_type": "execute_result"
    }
   ],
   "source": [
    "best_param"
   ]
  },
  {
   "cell_type": "code",
   "execution_count": 105,
   "id": "functional-denmark",
   "metadata": {},
   "outputs": [
    {
     "data": {
      "text/plain": [
       "Pipeline(steps=[('countvectorizer',\n",
       "                 CountVectorizer(max_features=10000, stop_words='english')),\n",
       "                ('multinomialnb', MultinomialNB(class_prior=[0.5, 0.07]))])"
      ]
     },
     "execution_count": 105,
     "metadata": {},
     "output_type": "execute_result"
    }
   ],
   "source": [
    "pipeline_def = make_pipeline(CountVectorizer(stop_words='english'), \n",
    "                             MultinomialNB())\n",
    "pipeline_opt = make_pipeline(CountVectorizer(max_features=best_param['countvectorizer__max_features'], stop_words='english'), \n",
    "                             MultinomialNB(class_prior=best_param['multinomialnb__class_prior']))\n",
    "\n",
    "pipeline_def.fit(X_train, y_train)\n",
    "pipeline_opt.fit(X_train, y_train)"
   ]
  },
  {
   "cell_type": "markdown",
   "id": "b10007fb-d6dd-47ae-8726-d08318d68760",
   "metadata": {},
   "source": [
    "(5) Print classification report untuk trainset dan testset (default vs optimized). Apakah optimisasi meningkatkan performansi dari model?"
   ]
  },
  {
   "cell_type": "code",
   "execution_count": 108,
   "id": "26ca8c0a-ab79-43b8-863f-fb1f020ff830",
   "metadata": {},
   "outputs": [
    {
     "name": "stdout",
     "output_type": "stream",
     "text": [
      "              precision    recall  f1-score   support\n",
      "\n",
      "           1       0.98      0.98      0.98       591\n",
      "           0       1.00      1.00      1.00      3866\n",
      "\n",
      "    accuracy                           0.99      4457\n",
      "   macro avg       0.99      0.99      0.99      4457\n",
      "weighted avg       0.99      0.99      0.99      4457\n",
      "\n"
     ]
    }
   ],
   "source": [
    "from sklearn.metrics import classification_report\n",
    "y_pred_train = pipeline_def.predict(X_train)\n",
    "y_pred_test = pipeline_def.predict(X_test)\n",
    "\n",
    "print(classification_report(y_train, y_pred_train, labels=[1,0]))"
   ]
  },
  {
   "cell_type": "code",
   "execution_count": 109,
   "id": "durable-pipeline",
   "metadata": {},
   "outputs": [
    {
     "name": "stdout",
     "output_type": "stream",
     "text": [
      "              precision    recall  f1-score   support\n",
      "\n",
      "           1       0.98      0.98      0.98       591\n",
      "           0       1.00      1.00      1.00      3866\n",
      "\n",
      "    accuracy                           0.99      4457\n",
      "   macro avg       0.99      0.99      0.99      4457\n",
      "weighted avg       0.99      0.99      0.99      4457\n",
      "\n"
     ]
    }
   ],
   "source": [
    "y_pred_train = pipeline_opt.predict(X_train)\n",
    "y_pred_test = pipeline_opt.predict(X_test)\n",
    "\n",
    "print(classification_report(y_train, y_pred_train, labels=[1,0]))"
   ]
  },
  {
   "cell_type": "markdown",
   "id": "noble-competition",
   "metadata": {},
   "source": [
    "untuk hasil default dan optimasi hampir sama. hal ini dikarenakan hasil optimasi parameter mendapatkan hasil yang hampir sama dengan nilai default"
   ]
  },
  {
   "cell_type": "code",
   "execution_count": null,
   "id": "assumed-immune",
   "metadata": {},
   "outputs": [],
   "source": []
  }
 ],
 "metadata": {
  "kernelspec": {
   "display_name": "Python 3",
   "language": "python",
   "name": "python3"
  },
  "language_info": {
   "codemirror_mode": {
    "name": "ipython",
    "version": 3
   },
   "file_extension": ".py",
   "mimetype": "text/x-python",
   "name": "python",
   "nbconvert_exporter": "python",
   "pygments_lexer": "ipython3",
   "version": "3.8.7"
  }
 },
 "nbformat": 4,
 "nbformat_minor": 5
}
